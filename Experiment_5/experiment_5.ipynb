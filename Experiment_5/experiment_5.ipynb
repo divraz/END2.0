{
  "nbformat": 4,
  "nbformat_minor": 0,
  "metadata": {
    "accelerator": "GPU",
    "colab": {
      "name": "experiment_5.ipynb",
      "provenance": [],
      "collapsed_sections": [
        "I87TLg-wPu2A",
        "7VP8nIIMPykV"
      ],
      "authorship_tag": "ABX9TyOHekjFYXp+BTi+BqAUY833",
      "include_colab_link": true
    },
    "kernelspec": {
      "display_name": "Python 3",
      "name": "python3"
    },
    "language_info": {
      "name": "python"
    }
  },
  "cells": [
    {
      "cell_type": "markdown",
      "metadata": {
        "id": "view-in-github",
        "colab_type": "text"
      },
      "source": [
        "<a href=\"https://colab.research.google.com/github/divyanshuraj6815/END2.0/blob/main/Experiment_5/experiment_5.ipynb\" target=\"_parent\"><img src=\"https://colab.research.google.com/assets/colab-badge.svg\" alt=\"Open In Colab\"/></a>"
      ]
    },
    {
      "cell_type": "markdown",
      "metadata": {
        "id": "8Ya0V3P9IrzD"
      },
      "source": [
        "# Download, Understand and Create the Dataset\n",
        "a pandas dataframe \"df\" with \"tweets\" and \"labels\""
      ]
    },
    {
      "cell_type": "code",
      "metadata": {
        "colab": {
          "base_uri": "https://localhost:8080/"
        },
        "id": "8ZVgFZo2Gs9x",
        "outputId": "a27b7ae6-585a-4f5a-9c28-07b21c5a85f2"
      },
      "source": [
        "!wget http://nlp.stanford.edu/~socherr/stanfordSentimentTreebank.zip"
      ],
      "execution_count": 1,
      "outputs": [
        {
          "output_type": "stream",
          "text": [
            "--2021-05-31 04:36:41--  http://nlp.stanford.edu/~socherr/stanfordSentimentTreebank.zip\n",
            "Resolving nlp.stanford.edu (nlp.stanford.edu)... 171.64.67.140\n",
            "Connecting to nlp.stanford.edu (nlp.stanford.edu)|171.64.67.140|:80... connected.\n",
            "HTTP request sent, awaiting response... 302 Found\n",
            "Location: https://nlp.stanford.edu/~socherr/stanfordSentimentTreebank.zip [following]\n",
            "--2021-05-31 04:36:41--  https://nlp.stanford.edu/~socherr/stanfordSentimentTreebank.zip\n",
            "Connecting to nlp.stanford.edu (nlp.stanford.edu)|171.64.67.140|:443... connected.\n",
            "HTTP request sent, awaiting response... 200 OK\n",
            "Length: 6372817 (6.1M) [application/zip]\n",
            "Saving to: ‘stanfordSentimentTreebank.zip’\n",
            "\n",
            "stanfordSentimentTr 100%[===================>]   6.08M  7.98MB/s    in 0.8s    \n",
            "\n",
            "2021-05-31 04:36:42 (7.98 MB/s) - ‘stanfordSentimentTreebank.zip’ saved [6372817/6372817]\n",
            "\n"
          ],
          "name": "stdout"
        }
      ]
    },
    {
      "cell_type": "code",
      "metadata": {
        "colab": {
          "base_uri": "https://localhost:8080/"
        },
        "id": "m05yc6-5HCxs",
        "outputId": "2bf5807d-0ebe-4fa5-8130-85b7e789d1c9"
      },
      "source": [
        "!unzip *.zip"
      ],
      "execution_count": 2,
      "outputs": [
        {
          "output_type": "stream",
          "text": [
            "Archive:  stanfordSentimentTreebank.zip\n",
            "   creating: stanfordSentimentTreebank/\n",
            "  inflating: stanfordSentimentTreebank/datasetSentences.txt  \n",
            "   creating: __MACOSX/\n",
            "   creating: __MACOSX/stanfordSentimentTreebank/\n",
            "  inflating: __MACOSX/stanfordSentimentTreebank/._datasetSentences.txt  \n",
            "  inflating: stanfordSentimentTreebank/datasetSplit.txt  \n",
            "  inflating: __MACOSX/stanfordSentimentTreebank/._datasetSplit.txt  \n",
            "  inflating: stanfordSentimentTreebank/dictionary.txt  \n",
            "  inflating: __MACOSX/stanfordSentimentTreebank/._dictionary.txt  \n",
            "  inflating: stanfordSentimentTreebank/original_rt_snippets.txt  \n",
            "  inflating: __MACOSX/stanfordSentimentTreebank/._original_rt_snippets.txt  \n",
            "  inflating: stanfordSentimentTreebank/README.txt  \n",
            "  inflating: __MACOSX/stanfordSentimentTreebank/._README.txt  \n",
            "  inflating: stanfordSentimentTreebank/sentiment_labels.txt  \n",
            "  inflating: __MACOSX/stanfordSentimentTreebank/._sentiment_labels.txt  \n",
            "  inflating: stanfordSentimentTreebank/SOStr.txt  \n",
            "  inflating: stanfordSentimentTreebank/STree.txt  \n"
          ],
          "name": "stdout"
        }
      ]
    },
    {
      "cell_type": "code",
      "metadata": {
        "id": "y1mFJXScHIqw"
      },
      "source": [
        "text_file = '/content/stanfordSentimentTreebank/datasetSentences.txt'\n",
        "label_file = '/content/stanfordSentimentTreebank/sentiment_labels.txt'"
      ],
      "execution_count": 3,
      "outputs": []
    },
    {
      "cell_type": "code",
      "metadata": {
        "colab": {
          "base_uri": "https://localhost:8080/"
        },
        "id": "c9i940-CIdzn",
        "outputId": "c6e26d47-6905-46bd-a458-b935c0644dd8"
      },
      "source": [
        "!head /content/stanfordSentimentTreebank/sentiment_labels.txt"
      ],
      "execution_count": 4,
      "outputs": [
        {
          "output_type": "stream",
          "text": [
            "phrase ids|sentiment values\n",
            "0|0.5\n",
            "1|0.5\n",
            "2|0.44444\n",
            "3|0.5\n",
            "4|0.42708\n",
            "5|0.375\n",
            "6|0.41667\n",
            "7|0.54167\n",
            "8|0.33333\n"
          ],
          "name": "stdout"
        }
      ]
    },
    {
      "cell_type": "code",
      "metadata": {
        "colab": {
          "base_uri": "https://localhost:8080/"
        },
        "id": "L_a3yY7IIBzO",
        "outputId": "8bbda7d7-f665-4808-da0e-2ab74a280920"
      },
      "source": [
        "!head /content/stanfordSentimentTreebank/datasetSentences.txt"
      ],
      "execution_count": 5,
      "outputs": [
        {
          "output_type": "stream",
          "text": [
            "sentence_index\tsentence\n",
            "1\tThe Rock is destined to be the 21st Century 's new `` Conan '' and that he 's going to make a splash even greater than Arnold Schwarzenegger , Jean-Claud Van Damme or Steven Segal .\n",
            "2\tThe gorgeously elaborate continuation of `` The Lord of the Rings '' trilogy is so huge that a column of words can not adequately describe co-writer\\/director Peter Jackson 's expanded vision of J.R.R. Tolkien 's Middle-earth .\n",
            "3\tEffective but too-tepid biopic\n",
            "4\tIf you sometimes like to go to the movies to have fun , Wasabi is a good place to start .\n",
            "5\tEmerges as something rare , an issue movie that 's so honest and keenly observed that it does n't feel like one .\n",
            "6\tThe film provides some great insight into the neurotic mindset of all comics -- even those who have reached the absolute top of the game .\n",
            "7\tOffers that rare combination of entertainment and education .\n",
            "8\tPerhaps no picture ever made has more literally showed that the road to hell is paved with good intentions .\n",
            "9\tSteers turns in a snappy screenplay that curls at the edges ; it 's so clever you want to hate it .\n"
          ],
          "name": "stdout"
        }
      ]
    },
    {
      "cell_type": "code",
      "metadata": {
        "id": "YL_KThBMHcO0"
      },
      "source": [
        "import pandas as pd"
      ],
      "execution_count": 6,
      "outputs": []
    },
    {
      "cell_type": "code",
      "metadata": {
        "id": "-qu4Yq7cHmrO"
      },
      "source": [
        "text_data = pd.read_csv (\n",
        "    text_file, \n",
        "    delimiter = '\\t'\n",
        "    )\n",
        "label_data = pd.read_csv (\n",
        "    label_file, \n",
        "    delimiter = '|',\n",
        "    )\n",
        "\n",
        "for i, row in label_data.iterrows ():\n",
        "  x = row['sentiment values']\n",
        "  if x >= 0.4 and x < 0.6:\n",
        "    x = 1\n",
        "  elif x <= 0.4:\n",
        "    x = 0\n",
        "  else:\n",
        "    x = 2\n",
        "  label_data.at[i, 'sentiment values'] = x"
      ],
      "execution_count": 7,
      "outputs": []
    },
    {
      "cell_type": "code",
      "metadata": {
        "colab": {
          "base_uri": "https://localhost:8080/",
          "height": 0
        },
        "id": "tdVcwvCWH37l",
        "outputId": "5f480929-ae06-4d32-d3bb-c06521ffa73d"
      },
      "source": [
        "text_data.head ()"
      ],
      "execution_count": 8,
      "outputs": [
        {
          "output_type": "execute_result",
          "data": {
            "text/html": [
              "<div>\n",
              "<style scoped>\n",
              "    .dataframe tbody tr th:only-of-type {\n",
              "        vertical-align: middle;\n",
              "    }\n",
              "\n",
              "    .dataframe tbody tr th {\n",
              "        vertical-align: top;\n",
              "    }\n",
              "\n",
              "    .dataframe thead th {\n",
              "        text-align: right;\n",
              "    }\n",
              "</style>\n",
              "<table border=\"1\" class=\"dataframe\">\n",
              "  <thead>\n",
              "    <tr style=\"text-align: right;\">\n",
              "      <th></th>\n",
              "      <th>sentence_index</th>\n",
              "      <th>sentence</th>\n",
              "    </tr>\n",
              "  </thead>\n",
              "  <tbody>\n",
              "    <tr>\n",
              "      <th>0</th>\n",
              "      <td>1</td>\n",
              "      <td>The Rock is destined to be the 21st Century 's...</td>\n",
              "    </tr>\n",
              "    <tr>\n",
              "      <th>1</th>\n",
              "      <td>2</td>\n",
              "      <td>The gorgeously elaborate continuation of `` Th...</td>\n",
              "    </tr>\n",
              "    <tr>\n",
              "      <th>2</th>\n",
              "      <td>3</td>\n",
              "      <td>Effective but too-tepid biopic</td>\n",
              "    </tr>\n",
              "    <tr>\n",
              "      <th>3</th>\n",
              "      <td>4</td>\n",
              "      <td>If you sometimes like to go to the movies to h...</td>\n",
              "    </tr>\n",
              "    <tr>\n",
              "      <th>4</th>\n",
              "      <td>5</td>\n",
              "      <td>Emerges as something rare , an issue movie tha...</td>\n",
              "    </tr>\n",
              "  </tbody>\n",
              "</table>\n",
              "</div>"
            ],
            "text/plain": [
              "   sentence_index                                           sentence\n",
              "0               1  The Rock is destined to be the 21st Century 's...\n",
              "1               2  The gorgeously elaborate continuation of `` Th...\n",
              "2               3                     Effective but too-tepid biopic\n",
              "3               4  If you sometimes like to go to the movies to h...\n",
              "4               5  Emerges as something rare , an issue movie tha..."
            ]
          },
          "metadata": {
            "tags": []
          },
          "execution_count": 8
        }
      ]
    },
    {
      "cell_type": "code",
      "metadata": {
        "colab": {
          "base_uri": "https://localhost:8080/",
          "height": 0
        },
        "id": "qQ9KCCbUIWVR",
        "outputId": "fa86e383-bdd1-44f7-d4f0-bbac9bfe9e2d"
      },
      "source": [
        "label_data.head ()"
      ],
      "execution_count": 9,
      "outputs": [
        {
          "output_type": "execute_result",
          "data": {
            "text/html": [
              "<div>\n",
              "<style scoped>\n",
              "    .dataframe tbody tr th:only-of-type {\n",
              "        vertical-align: middle;\n",
              "    }\n",
              "\n",
              "    .dataframe tbody tr th {\n",
              "        vertical-align: top;\n",
              "    }\n",
              "\n",
              "    .dataframe thead th {\n",
              "        text-align: right;\n",
              "    }\n",
              "</style>\n",
              "<table border=\"1\" class=\"dataframe\">\n",
              "  <thead>\n",
              "    <tr style=\"text-align: right;\">\n",
              "      <th></th>\n",
              "      <th>phrase ids</th>\n",
              "      <th>sentiment values</th>\n",
              "    </tr>\n",
              "  </thead>\n",
              "  <tbody>\n",
              "    <tr>\n",
              "      <th>0</th>\n",
              "      <td>0</td>\n",
              "      <td>1.0</td>\n",
              "    </tr>\n",
              "    <tr>\n",
              "      <th>1</th>\n",
              "      <td>1</td>\n",
              "      <td>1.0</td>\n",
              "    </tr>\n",
              "    <tr>\n",
              "      <th>2</th>\n",
              "      <td>2</td>\n",
              "      <td>1.0</td>\n",
              "    </tr>\n",
              "    <tr>\n",
              "      <th>3</th>\n",
              "      <td>3</td>\n",
              "      <td>1.0</td>\n",
              "    </tr>\n",
              "    <tr>\n",
              "      <th>4</th>\n",
              "      <td>4</td>\n",
              "      <td>1.0</td>\n",
              "    </tr>\n",
              "  </tbody>\n",
              "</table>\n",
              "</div>"
            ],
            "text/plain": [
              "   phrase ids  sentiment values\n",
              "0           0               1.0\n",
              "1           1               1.0\n",
              "2           2               1.0\n",
              "3           3               1.0\n",
              "4           4               1.0"
            ]
          },
          "metadata": {
            "tags": []
          },
          "execution_count": 9
        }
      ]
    },
    {
      "cell_type": "code",
      "metadata": {
        "colab": {
          "base_uri": "https://localhost:8080/"
        },
        "id": "-2DrTLg9IYyq",
        "outputId": "11f4b7f8-9451-4aae-bcd9-2a5b9a4eee52"
      },
      "source": [
        "text_data.shape, label_data.shape"
      ],
      "execution_count": 10,
      "outputs": [
        {
          "output_type": "execute_result",
          "data": {
            "text/plain": [
              "((11855, 2), (239232, 2))"
            ]
          },
          "metadata": {
            "tags": []
          },
          "execution_count": 10
        }
      ]
    },
    {
      "cell_type": "code",
      "metadata": {
        "colab": {
          "base_uri": "https://localhost:8080/"
        },
        "id": "zwuVXO6qJBkt",
        "outputId": "4d979fe1-f9d7-4be1-c205-b7316b8b1f52"
      },
      "source": [
        "label_data[\"sentiment values\"].value_counts ()"
      ],
      "execution_count": 11,
      "outputs": [
        {
          "output_type": "execute_result",
          "data": {
            "text/plain": [
              "1.0    119449\n",
              "2.0     65403\n",
              "0.0     54380\n",
              "Name: sentiment values, dtype: int64"
            ]
          },
          "metadata": {
            "tags": []
          },
          "execution_count": 11
        }
      ]
    },
    {
      "cell_type": "code",
      "metadata": {
        "colab": {
          "base_uri": "https://localhost:8080/",
          "height": 0
        },
        "id": "xDrSTxTlJR3u",
        "outputId": "c094118f-fe56-4aba-9cb8-94d1988aa6b9"
      },
      "source": [
        "df = pd.merge (\n",
        "    left = text_data,\n",
        "    right = label_data,\n",
        "    left_on = 'sentence_index',\n",
        "    right_on = 'phrase ids'\n",
        ")\n",
        "df.head ()"
      ],
      "execution_count": 12,
      "outputs": [
        {
          "output_type": "execute_result",
          "data": {
            "text/html": [
              "<div>\n",
              "<style scoped>\n",
              "    .dataframe tbody tr th:only-of-type {\n",
              "        vertical-align: middle;\n",
              "    }\n",
              "\n",
              "    .dataframe tbody tr th {\n",
              "        vertical-align: top;\n",
              "    }\n",
              "\n",
              "    .dataframe thead th {\n",
              "        text-align: right;\n",
              "    }\n",
              "</style>\n",
              "<table border=\"1\" class=\"dataframe\">\n",
              "  <thead>\n",
              "    <tr style=\"text-align: right;\">\n",
              "      <th></th>\n",
              "      <th>sentence_index</th>\n",
              "      <th>sentence</th>\n",
              "      <th>phrase ids</th>\n",
              "      <th>sentiment values</th>\n",
              "    </tr>\n",
              "  </thead>\n",
              "  <tbody>\n",
              "    <tr>\n",
              "      <th>0</th>\n",
              "      <td>1</td>\n",
              "      <td>The Rock is destined to be the 21st Century 's...</td>\n",
              "      <td>1</td>\n",
              "      <td>1.0</td>\n",
              "    </tr>\n",
              "    <tr>\n",
              "      <th>1</th>\n",
              "      <td>2</td>\n",
              "      <td>The gorgeously elaborate continuation of `` Th...</td>\n",
              "      <td>2</td>\n",
              "      <td>1.0</td>\n",
              "    </tr>\n",
              "    <tr>\n",
              "      <th>2</th>\n",
              "      <td>3</td>\n",
              "      <td>Effective but too-tepid biopic</td>\n",
              "      <td>3</td>\n",
              "      <td>1.0</td>\n",
              "    </tr>\n",
              "    <tr>\n",
              "      <th>3</th>\n",
              "      <td>4</td>\n",
              "      <td>If you sometimes like to go to the movies to h...</td>\n",
              "      <td>4</td>\n",
              "      <td>1.0</td>\n",
              "    </tr>\n",
              "    <tr>\n",
              "      <th>4</th>\n",
              "      <td>5</td>\n",
              "      <td>Emerges as something rare , an issue movie tha...</td>\n",
              "      <td>5</td>\n",
              "      <td>0.0</td>\n",
              "    </tr>\n",
              "  </tbody>\n",
              "</table>\n",
              "</div>"
            ],
            "text/plain": [
              "   sentence_index  ... sentiment values\n",
              "0               1  ...              1.0\n",
              "1               2  ...              1.0\n",
              "2               3  ...              1.0\n",
              "3               4  ...              1.0\n",
              "4               5  ...              0.0\n",
              "\n",
              "[5 rows x 4 columns]"
            ]
          },
          "metadata": {
            "tags": []
          },
          "execution_count": 12
        }
      ]
    },
    {
      "cell_type": "code",
      "metadata": {
        "colab": {
          "base_uri": "https://localhost:8080/"
        },
        "id": "8udau49EKXgj",
        "outputId": "8326853b-db52-40a1-99d0-051b2f993148"
      },
      "source": [
        "df.shape"
      ],
      "execution_count": 13,
      "outputs": [
        {
          "output_type": "execute_result",
          "data": {
            "text/plain": [
              "(11855, 4)"
            ]
          },
          "metadata": {
            "tags": []
          },
          "execution_count": 13
        }
      ]
    },
    {
      "cell_type": "code",
      "metadata": {
        "colab": {
          "base_uri": "https://localhost:8080/"
        },
        "id": "aUm55x_DKju3",
        "outputId": "5dc27bbb-0cdb-43e1-dc64-ae5b851b1572"
      },
      "source": [
        "df['sentiment values'].value_counts ()"
      ],
      "execution_count": 14,
      "outputs": [
        {
          "output_type": "execute_result",
          "data": {
            "text/plain": [
              "1.0    6240\n",
              "0.0    2813\n",
              "2.0    2802\n",
              "Name: sentiment values, dtype: int64"
            ]
          },
          "metadata": {
            "tags": []
          },
          "execution_count": 14
        }
      ]
    },
    {
      "cell_type": "code",
      "metadata": {
        "colab": {
          "base_uri": "https://localhost:8080/",
          "height": 0
        },
        "id": "vHOUb5oRKsTt",
        "outputId": "ecb64fca-7176-4273-c621-02181488e858"
      },
      "source": [
        "df = df.rename (columns = {'sentence' : 'tweets', 'sentiment values' : 'labels'})\n",
        "df = df.drop (['sentence_index', 'phrase ids'], axis = 1)\n",
        "df.head ()"
      ],
      "execution_count": 15,
      "outputs": [
        {
          "output_type": "execute_result",
          "data": {
            "text/html": [
              "<div>\n",
              "<style scoped>\n",
              "    .dataframe tbody tr th:only-of-type {\n",
              "        vertical-align: middle;\n",
              "    }\n",
              "\n",
              "    .dataframe tbody tr th {\n",
              "        vertical-align: top;\n",
              "    }\n",
              "\n",
              "    .dataframe thead th {\n",
              "        text-align: right;\n",
              "    }\n",
              "</style>\n",
              "<table border=\"1\" class=\"dataframe\">\n",
              "  <thead>\n",
              "    <tr style=\"text-align: right;\">\n",
              "      <th></th>\n",
              "      <th>tweets</th>\n",
              "      <th>labels</th>\n",
              "    </tr>\n",
              "  </thead>\n",
              "  <tbody>\n",
              "    <tr>\n",
              "      <th>0</th>\n",
              "      <td>The Rock is destined to be the 21st Century 's...</td>\n",
              "      <td>1.0</td>\n",
              "    </tr>\n",
              "    <tr>\n",
              "      <th>1</th>\n",
              "      <td>The gorgeously elaborate continuation of `` Th...</td>\n",
              "      <td>1.0</td>\n",
              "    </tr>\n",
              "    <tr>\n",
              "      <th>2</th>\n",
              "      <td>Effective but too-tepid biopic</td>\n",
              "      <td>1.0</td>\n",
              "    </tr>\n",
              "    <tr>\n",
              "      <th>3</th>\n",
              "      <td>If you sometimes like to go to the movies to h...</td>\n",
              "      <td>1.0</td>\n",
              "    </tr>\n",
              "    <tr>\n",
              "      <th>4</th>\n",
              "      <td>Emerges as something rare , an issue movie tha...</td>\n",
              "      <td>0.0</td>\n",
              "    </tr>\n",
              "  </tbody>\n",
              "</table>\n",
              "</div>"
            ],
            "text/plain": [
              "                                              tweets  labels\n",
              "0  The Rock is destined to be the 21st Century 's...     1.0\n",
              "1  The gorgeously elaborate continuation of `` Th...     1.0\n",
              "2                     Effective but too-tepid biopic     1.0\n",
              "3  If you sometimes like to go to the movies to h...     1.0\n",
              "4  Emerges as something rare , an issue movie tha...     0.0"
            ]
          },
          "metadata": {
            "tags": []
          },
          "execution_count": 15
        }
      ]
    },
    {
      "cell_type": "markdown",
      "metadata": {
        "id": "nF-xD67PNJx0"
      },
      "source": [
        "# Data Augmentation"
      ]
    },
    {
      "cell_type": "markdown",
      "metadata": {
        "id": "I87TLg-wPu2A"
      },
      "source": [
        "## Back Translation"
      ]
    },
    {
      "cell_type": "code",
      "metadata": {
        "id": "ggbSppTkNPlU"
      },
      "source": [
        "!sudo pip install google_trans_new"
      ],
      "execution_count": null,
      "outputs": []
    },
    {
      "cell_type": "code",
      "metadata": {
        "colab": {
          "base_uri": "https://localhost:8080/",
          "height": 196
        },
        "id": "IN3sTNBWNmOV",
        "outputId": "73c88bf8-b5aa-4fc2-e45a-d4db8746c4a7"
      },
      "source": [
        "translated = pd.DataFrame (columns = ['tweets', 'labels'])\n",
        "translated = pd.read_csv ('translated.csv', index_col='Unnamed: 0')\n",
        "translated.head ()"
      ],
      "execution_count": 32,
      "outputs": [
        {
          "output_type": "execute_result",
          "data": {
            "text/html": [
              "<div>\n",
              "<style scoped>\n",
              "    .dataframe tbody tr th:only-of-type {\n",
              "        vertical-align: middle;\n",
              "    }\n",
              "\n",
              "    .dataframe tbody tr th {\n",
              "        vertical-align: top;\n",
              "    }\n",
              "\n",
              "    .dataframe thead th {\n",
              "        text-align: right;\n",
              "    }\n",
              "</style>\n",
              "<table border=\"1\" class=\"dataframe\">\n",
              "  <thead>\n",
              "    <tr style=\"text-align: right;\">\n",
              "      <th></th>\n",
              "      <th>tweets</th>\n",
              "      <th>labels</th>\n",
              "    </tr>\n",
              "  </thead>\n",
              "  <tbody>\n",
              "    <tr>\n",
              "      <th>0</th>\n",
              "      <td>The stone is destined to be the new `` conan '...</td>\n",
              "      <td>1.0</td>\n",
              "    </tr>\n",
              "    <tr>\n",
              "      <th>10</th>\n",
              "      <td>Take care of my cat offers a variety of wishes...</td>\n",
              "      <td>1.0</td>\n",
              "    </tr>\n",
              "    <tr>\n",
              "      <th>20</th>\n",
              "      <td>The actual skill offers that the actual weathe...</td>\n",
              "      <td>2.0</td>\n",
              "    </tr>\n",
              "    <tr>\n",
              "      <th>30</th>\n",
              "      <td>It helps that Lil Bow Wow ... Lower the Word o...</td>\n",
              "      <td>0.0</td>\n",
              "    </tr>\n",
              "    <tr>\n",
              "      <th>40</th>\n",
              "      <td>Like most bond expressions in recent years, so...</td>\n",
              "      <td>2.0</td>\n",
              "    </tr>\n",
              "  </tbody>\n",
              "</table>\n",
              "</div>"
            ],
            "text/plain": [
              "                                               tweets  labels\n",
              "0   The stone is destined to be the new `` conan '...     1.0\n",
              "10  Take care of my cat offers a variety of wishes...     1.0\n",
              "20  The actual skill offers that the actual weathe...     2.0\n",
              "30  It helps that Lil Bow Wow ... Lower the Word o...     0.0\n",
              "40  Like most bond expressions in recent years, so...     2.0"
            ]
          },
          "metadata": {
            "tags": []
          },
          "execution_count": 32
        }
      ]
    },
    {
      "cell_type": "code",
      "metadata": {
        "id": "2MbEMeRMNoFd"
      },
      "source": [
        "import random\n",
        "import google_trans_new\n",
        "from google_trans_new import google_translator\n",
        "\n",
        "translator = google_translator()\n",
        "print (translator)\n",
        "\n",
        "for index, element in df.iterrows ():\n",
        "  if index % 10 == 0:\n",
        "    continue\n",
        "  sentence = element['tweets']\n",
        "  available_langs = list(google_trans_new.LANGUAGES.keys()) \n",
        "  trans_lang = random.choice(available_langs) \n",
        "  #print(f\"Translating to {google_trans_new.LANGUAGES[trans_lang]}\")\n",
        "\n",
        "  translations = translator.translate(sentence, lang_tgt=trans_lang) \n",
        "\n",
        "  #t_text = [t for t in translations]\n",
        "  t_text = translations\n",
        "  #print(t_text)\n",
        "\n",
        "  translations_en_random = translator.translate(t_text, lang_src=trans_lang, lang_tgt='en') \n",
        "  #en_text = [t.text for t in translations_en_random]\n",
        "  en_text = translations_en_random\n",
        "  #print(en_text)\n",
        "  translated.loc[index] = [en_text, element['labels']]\n",
        "  if index % 1000 == 0:\n",
        "    print (index)\n",
        "    print (\"original:\", sentence)\n",
        "    print (\"back_translated:\", en_text)"
      ],
      "execution_count": null,
      "outputs": []
    },
    {
      "cell_type": "code",
      "metadata": {
        "colab": {
          "base_uri": "https://localhost:8080/"
        },
        "id": "R7FDwCKR-m7N",
        "outputId": "03ae4835-22d3-4ae1-d3fb-191f9cfb884c"
      },
      "source": [
        "for index, element in translated.iterrows ():\n",
        "  print (\"original:\", df.loc[index]['tweets'])\n",
        "  print (\"translated:\", element['tweets'])\n",
        "  if index > 100:\n",
        "    break"
      ],
      "execution_count": null,
      "outputs": [
        {
          "output_type": "stream",
          "text": [
            "original: The Rock is destined to be the 21st Century 's new `` Conan '' and that he 's going to make a splash even greater than Arnold Schwarzenegger , Jean-Claud Van Damme or Steven Segal .\n",
            "translated: The stone is destined to be the new `` conan 'of the 21st century and that he is going to make a splash even bigger than Arnold Schwarzenegger, Jean-Claud Van Damme or Steven Segal. \n",
            "original: Take Care of My Cat offers a refreshingly different slice of Asian cinema .\n",
            "translated: Take care of my cat offers a variety of wishes to refresh the Asian cinema. \n",
            "original: Offers a breath of the fresh air of true sophistication .\n",
            "translated: The actual skill offers that the actual weather is breathing. \n",
            "original: It helps that Lil Bow Wow ... tones down his pint-sized gangsta act to play someone who resembles a real kid .\n",
            "translated: It helps that Lil Bow Wow ... Lower the Word of his Pint-size gang to play someone who is like a real child. \n",
            "original: Like most Bond outings in recent years , some of the stunts are so outlandish that they border on being cartoonlike .\n",
            "translated: Like most bond expressions in recent years, some of the stunts are out of the fact that some of the stunts are cartoonie. \n",
            "original: Tender yet lacerating and darkly funny fable .\n",
            "translated: Gentle still anchor and dark funny narrative. \n",
            "original: Singer\\/composer Bryan Adams contributes a slew of songs -- a few potential hits , a few more simply intrusive to the story -- but the whole package certainly captures the intended , er , spirit of the piece .\n",
            "translated: The singer / composer Bryan Adams adds slew songs - some potential hits, a few things that affect the story - but certainly gives the whole package the planned spirit, ER, spirit of the piece. \n",
            "original: Morton is a great actress portraying a complex character , but Morvern Callar grows less compelling the farther it meanders from its shocking start .\n",
            "translated: Morton is a great actress that depicts a complicated character, but MORVERN CALLAR grows less conquest of further meanders from his shocking start. \n",
            "original: Gollum 's ` performance ' is incredible !\n",
            "translated: Gollum's `Performance 'is incredible! \n",
            "original: Together , Tok and O orchestrate a buoyant , darkly funny dance of death .\n",
            "translated: Together, Talk and Ohot, Headed Ambaranance. \n",
            "original: If nothing else , this movie introduces a promising , unusual kind of psychological horror .\n",
            "translated: If nothing else this movie represents a promising, unusual kind of psychological horror. \n",
            "original: The values that have held the Enterprise crew together through previous adventures and perils do so again-courage , self-sacrifice and patience under pressure .\n",
            "translated: The values held by the business staff through previous adventures and dangers do it again, self-sacrifice and patience under pressure. \n"
          ],
          "name": "stdout"
        }
      ]
    },
    {
      "cell_type": "code",
      "metadata": {
        "colab": {
          "base_uri": "https://localhost:8080/",
          "height": 196
        },
        "id": "DvJi9wIZNvam",
        "outputId": "a57fcab5-1924-4167-a482-fc0506587709"
      },
      "source": [
        "translated.head ()"
      ],
      "execution_count": null,
      "outputs": [
        {
          "output_type": "execute_result",
          "data": {
            "text/html": [
              "<div>\n",
              "<style scoped>\n",
              "    .dataframe tbody tr th:only-of-type {\n",
              "        vertical-align: middle;\n",
              "    }\n",
              "\n",
              "    .dataframe tbody tr th {\n",
              "        vertical-align: top;\n",
              "    }\n",
              "\n",
              "    .dataframe thead th {\n",
              "        text-align: right;\n",
              "    }\n",
              "</style>\n",
              "<table border=\"1\" class=\"dataframe\">\n",
              "  <thead>\n",
              "    <tr style=\"text-align: right;\">\n",
              "      <th></th>\n",
              "      <th>tweets</th>\n",
              "      <th>labels</th>\n",
              "    </tr>\n",
              "  </thead>\n",
              "  <tbody>\n",
              "    <tr>\n",
              "      <th>0</th>\n",
              "      <td>The stone is destined to be the new `` conan '...</td>\n",
              "      <td>1.0</td>\n",
              "    </tr>\n",
              "    <tr>\n",
              "      <th>10</th>\n",
              "      <td>Take care of my cat offers a variety of wishes...</td>\n",
              "      <td>1.0</td>\n",
              "    </tr>\n",
              "    <tr>\n",
              "      <th>20</th>\n",
              "      <td>The actual skill offers that the actual weathe...</td>\n",
              "      <td>2.0</td>\n",
              "    </tr>\n",
              "    <tr>\n",
              "      <th>30</th>\n",
              "      <td>It helps that Lil Bow Wow ... Lower the Word o...</td>\n",
              "      <td>0.0</td>\n",
              "    </tr>\n",
              "    <tr>\n",
              "      <th>40</th>\n",
              "      <td>Like most bond expressions in recent years, so...</td>\n",
              "      <td>2.0</td>\n",
              "    </tr>\n",
              "  </tbody>\n",
              "</table>\n",
              "</div>"
            ],
            "text/plain": [
              "                                               tweets  labels\n",
              "0   The stone is destined to be the new `` conan '...     1.0\n",
              "10  Take care of my cat offers a variety of wishes...     1.0\n",
              "20  The actual skill offers that the actual weathe...     2.0\n",
              "30  It helps that Lil Bow Wow ... Lower the Word o...     0.0\n",
              "40  Like most bond expressions in recent years, so...     2.0"
            ]
          },
          "metadata": {
            "tags": []
          },
          "execution_count": 21
        }
      ]
    },
    {
      "cell_type": "code",
      "metadata": {
        "id": "Jm9PF9n1Oq3A"
      },
      "source": [
        "translated.to_csv ('translated.csv')"
      ],
      "execution_count": null,
      "outputs": []
    },
    {
      "cell_type": "code",
      "metadata": {
        "colab": {
          "base_uri": "https://localhost:8080/"
        },
        "id": "tqaxAju_Pdfu",
        "outputId": "8dc9ec55-5473-4ef0-a4ef-9b90f3a98495"
      },
      "source": [
        "translated.shape"
      ],
      "execution_count": null,
      "outputs": [
        {
          "output_type": "execute_result",
          "data": {
            "text/plain": [
              "(1795, 2)"
            ]
          },
          "metadata": {
            "tags": []
          },
          "execution_count": 23
        }
      ]
    },
    {
      "cell_type": "code",
      "metadata": {
        "colab": {
          "base_uri": "https://localhost:8080/"
        },
        "id": "TwM8NZx4Phbb",
        "outputId": "1d3f328e-c912-4341-a2f7-ed249ad9e85c"
      },
      "source": [
        "translated.labels.value_counts ()"
      ],
      "execution_count": null,
      "outputs": [
        {
          "output_type": "execute_result",
          "data": {
            "text/plain": [
              "1.0    963\n",
              "0.0    417\n",
              "2.0    415\n",
              "Name: labels, dtype: int64"
            ]
          },
          "metadata": {
            "tags": []
          },
          "execution_count": 24
        }
      ]
    },
    {
      "cell_type": "markdown",
      "metadata": {
        "id": "7VP8nIIMPykV"
      },
      "source": [
        "## Random Insertion"
      ]
    },
    {
      "cell_type": "code",
      "metadata": {
        "id": "QlSAaVoFZHKh"
      },
      "source": [
        "!wget -c \"https://s3.amazonaws.com/dl4j-distribution/GoogleNews-vectors-negative300.bin.gz\""
      ],
      "execution_count": null,
      "outputs": []
    },
    {
      "cell_type": "code",
      "metadata": {
        "id": "k1dSo3BJZLFr"
      },
      "source": [
        "!gzip -d GoogleNews-vectors-negative300.bin.gz"
      ],
      "execution_count": null,
      "outputs": []
    },
    {
      "cell_type": "code",
      "metadata": {
        "id": "nb3lxuDoQmnU"
      },
      "source": [
        "from gensim import models\n",
        "\n",
        "w = models.KeyedVectors.load_word2vec_format(\n",
        "    'GoogleNews-vectors-negative300.bin', \n",
        "    binary=True\n",
        "    )"
      ],
      "execution_count": null,
      "outputs": []
    },
    {
      "cell_type": "code",
      "metadata": {
        "colab": {
          "base_uri": "https://localhost:8080/"
        },
        "id": "Kex8Z_cOZtlz",
        "outputId": "c01813f3-2678-447c-9e85-b8e9e767308c"
      },
      "source": [
        "sample_word = 'good'\n",
        "w.wv.most_similar (positive = sample_word)"
      ],
      "execution_count": null,
      "outputs": [
        {
          "output_type": "stream",
          "text": [
            "/usr/local/lib/python3.7/dist-packages/ipykernel_launcher.py:2: DeprecationWarning: Call to deprecated `wv` (Attribute will be removed in 4.0.0, use self instead).\n",
            "  \n"
          ],
          "name": "stderr"
        },
        {
          "output_type": "execute_result",
          "data": {
            "text/plain": [
              "[('great', 0.7291510105133057),\n",
              " ('bad', 0.7190051078796387),\n",
              " ('terrific', 0.6889115571975708),\n",
              " ('decent', 0.6837348937988281),\n",
              " ('nice', 0.6836092472076416),\n",
              " ('excellent', 0.644292950630188),\n",
              " ('fantastic', 0.6407778263092041),\n",
              " ('better', 0.6120728254318237),\n",
              " ('solid', 0.5806034803390503),\n",
              " ('lousy', 0.5764201879501343)]"
            ]
          },
          "metadata": {
            "tags": []
          },
          "execution_count": 28
        }
      ]
    },
    {
      "cell_type": "code",
      "metadata": {
        "colab": {
          "base_uri": "https://localhost:8080/"
        },
        "id": "VPaVFa41aOA3",
        "outputId": "16bb65fc-53a7-4200-c11a-d5ad5d55c3fc"
      },
      "source": [
        "w.wv.most_similar (negative = sample_word)"
      ],
      "execution_count": null,
      "outputs": [
        {
          "output_type": "stream",
          "text": [
            "/usr/local/lib/python3.7/dist-packages/ipykernel_launcher.py:1: DeprecationWarning: Call to deprecated `wv` (Attribute will be removed in 4.0.0, use self instead).\n",
            "  \"\"\"Entry point for launching an IPython kernel.\n"
          ],
          "name": "stderr"
        },
        {
          "output_type": "execute_result",
          "data": {
            "text/plain": [
              "[('Gwendolyn_Hodges', 0.2503279447555542),\n",
              " ('Jan_Bondar', 0.2344157099723816),\n",
              " ('NEW_BEDFORD_MASS', 0.23391133546829224),\n",
              " ('e_mailed_Massimo_Bettinotti', 0.2265409529209137),\n",
              " ('harshest_criticism', 0.22258423268795013),\n",
              " ('Irma_McDarbys', 0.21462903916835785),\n",
              " ('By_Andrew_Liszewski', 0.21122580766677856),\n",
              " ('By_ZINNIA_FARUQUE', 0.20448511838912964),\n",
              " ('Tom_Pyden', 0.20187518000602722),\n",
              " (\"Q#'##_Macronix_Earnings_Release\", 0.19982969760894775)]"
            ]
          },
          "metadata": {
            "tags": []
          },
          "execution_count": 29
        }
      ]
    },
    {
      "cell_type": "code",
      "metadata": {
        "id": "tD-6JlB1b94Q"
      },
      "source": [
        "def get_synonyms (word):\n",
        "  try:\n",
        "    x = w.wv.most_similar (positive = word)[0]\n",
        "    if x[1] > 0.5:\n",
        "      return x[0]\n",
        "    else:\n",
        "      return word\n",
        "  except:\n",
        "    return word"
      ],
      "execution_count": null,
      "outputs": []
    },
    {
      "cell_type": "code",
      "metadata": {
        "id": "dva0966iafRB"
      },
      "source": [
        "from spacy.lang.en import English\n",
        "from spacy.lang.en.stop_words import STOP_WORDS\n",
        "\n",
        "# Load English tokenizer, tagger, parser, NER and word vectors\n",
        "nlp = English()\n",
        "\n",
        "text = \"\"\"He determined to drop his litigation with the monastry, and relinguish his claims to the wood-cuting and \n",
        "fishery rihgts at once. He was the more ready to do this becuase the rights had become much less valuable, and he had \n",
        "indeed the vaguest idea where the wood and river in question were.\"\"\"\n",
        "\n",
        "def remove_stopwords (text):\n",
        "  #  \"nlp\" Object is used to create documents with linguistic annotations.\n",
        "  my_doc = nlp(text)\n",
        "\n",
        "  # Create list of word tokens\n",
        "  token_list = []\n",
        "  for token in my_doc:\n",
        "    token_list.append(token.text)\n",
        "\n",
        "\n",
        "  # Create list of word tokens after removing stopwords\n",
        "  filtered_sentence =[] \n",
        "\n",
        "  for word in token_list:\n",
        "    lexeme = nlp.vocab[word]\n",
        "    if lexeme.is_stop == False:\n",
        "      filtered_sentence.append(word) \n",
        "  #print(token_list)\n",
        "  #print(filtered_sentence)\n",
        "  return filtered_sentence "
      ],
      "execution_count": null,
      "outputs": []
    },
    {
      "cell_type": "code",
      "metadata": {
        "colab": {
          "base_uri": "https://localhost:8080/"
        },
        "id": "ZiigiKgmbs1W",
        "outputId": "b0421438-4ec6-488a-9f05-0cac76d05bb0"
      },
      "source": [
        "remove_stopwords (text)"
      ],
      "execution_count": null,
      "outputs": [
        {
          "output_type": "execute_result",
          "data": {
            "text/plain": [
              "['determined',\n",
              " 'drop',\n",
              " 'litigation',\n",
              " 'monastry',\n",
              " ',',\n",
              " 'relinguish',\n",
              " 'claims',\n",
              " 'wood',\n",
              " '-',\n",
              " 'cuting',\n",
              " '\\n',\n",
              " 'fishery',\n",
              " 'rihgts',\n",
              " '.',\n",
              " 'ready',\n",
              " 'becuase',\n",
              " 'rights',\n",
              " 'valuable',\n",
              " ',',\n",
              " '\\n',\n",
              " 'vaguest',\n",
              " 'idea',\n",
              " 'wood',\n",
              " 'river',\n",
              " 'question',\n",
              " '.']"
            ]
          },
          "metadata": {
            "tags": []
          },
          "execution_count": 32
        }
      ]
    },
    {
      "cell_type": "code",
      "metadata": {
        "id": "CKhf3BHBP2Gm"
      },
      "source": [
        "def random_insertion(sentence, n): \n",
        "    #print (n, sentence)\n",
        "    words = remove_stopwords(sentence)\n",
        "    s = []\n",
        "    #print (words) \n",
        "    replace_w = []\n",
        "    for i in range (n):\n",
        "        word = random.choice(words)\n",
        "        if word in s:\n",
        "          continue\n",
        "        s.append (word)\n",
        "        new_synonym = get_synonyms(word)\n",
        "        replace_w.append ([i, word, new_synonym])\n",
        "        #print (word, '=>', new_synonym)\n",
        "        sentence = sentence.replace(word, new_synonym)\n",
        "    return sentence, replace_w"
      ],
      "execution_count": null,
      "outputs": []
    },
    {
      "cell_type": "code",
      "metadata": {
        "colab": {
          "base_uri": "https://localhost:8080/"
        },
        "id": "sZKDhvhcT1Bx",
        "outputId": "1cc7d9c9-a12e-446b-efe5-ccaead6a1c7f"
      },
      "source": [
        "x = random_insertion (text, 5)\n",
        "print (x[1])"
      ],
      "execution_count": null,
      "outputs": [
        {
          "output_type": "stream",
          "text": [
            "/usr/local/lib/python3.7/dist-packages/ipykernel_launcher.py:3: DeprecationWarning: Call to deprecated `wv` (Attribute will be removed in 4.0.0, use self instead).\n",
            "  This is separate from the ipykernel package so we can avoid doing imports until\n"
          ],
          "name": "stderr"
        },
        {
          "output_type": "stream",
          "text": [
            "[[0, '-', '-'], [1, 'claims', 'claim'], [2, 'litigation', 'Litigation'], [3, 'monastry', 'vihara'], [4, 'rihgts', 'rihgts']]\n"
          ],
          "name": "stdout"
        }
      ]
    },
    {
      "cell_type": "code",
      "metadata": {
        "colab": {
          "base_uri": "https://localhost:8080/",
          "height": 196
        },
        "id": "TfSu555BcW9R",
        "outputId": "881b6daf-d009-401b-b12e-1dade579a9a5"
      },
      "source": [
        "try:\n",
        "  inserted = pd.read_csv ('inserted.csv')\n",
        "  inserted.head ()\n",
        "except:\n",
        "  inserted = pd.DataFrame (columns = ['tweets', 'labels'])\n",
        "inserted.head ()"
      ],
      "execution_count": 33,
      "outputs": [
        {
          "output_type": "execute_result",
          "data": {
            "text/html": [
              "<div>\n",
              "<style scoped>\n",
              "    .dataframe tbody tr th:only-of-type {\n",
              "        vertical-align: middle;\n",
              "    }\n",
              "\n",
              "    .dataframe tbody tr th {\n",
              "        vertical-align: top;\n",
              "    }\n",
              "\n",
              "    .dataframe thead th {\n",
              "        text-align: right;\n",
              "    }\n",
              "</style>\n",
              "<table border=\"1\" class=\"dataframe\">\n",
              "  <thead>\n",
              "    <tr style=\"text-align: right;\">\n",
              "      <th></th>\n",
              "      <th>Unnamed: 0</th>\n",
              "      <th>tweets</th>\n",
              "      <th>labels</th>\n",
              "    </tr>\n",
              "  </thead>\n",
              "  <tbody>\n",
              "    <tr>\n",
              "      <th>0</th>\n",
              "      <td>0</td>\n",
              "      <td>The Rock is destined to be the 21st Century 's...</td>\n",
              "      <td>1.0</td>\n",
              "    </tr>\n",
              "    <tr>\n",
              "      <th>1</th>\n",
              "      <td>5</td>\n",
              "      <td>The movie provides some great insights into th...</td>\n",
              "      <td>1.0</td>\n",
              "    </tr>\n",
              "    <tr>\n",
              "      <th>2</th>\n",
              "      <td>10</td>\n",
              "      <td>Take Care of My Dog provides a refreshingly Di...</td>\n",
              "      <td>1.0</td>\n",
              "    </tr>\n",
              "    <tr>\n",
              "      <th>3</th>\n",
              "      <td>15</td>\n",
              "      <td>Ultimately , it mulls the reason we need tales...</td>\n",
              "      <td>2.0</td>\n",
              "    </tr>\n",
              "    <tr>\n",
              "      <th>4</th>\n",
              "      <td>20</td>\n",
              "      <td>Offers a breaths of the fresh sulfurous_smell_...</td>\n",
              "      <td>2.0</td>\n",
              "    </tr>\n",
              "  </tbody>\n",
              "</table>\n",
              "</div>"
            ],
            "text/plain": [
              "   Unnamed: 0                                             tweets  labels\n",
              "0           0  The Rock is destined to be the 21st Century 's...     1.0\n",
              "1           5  The movie provides some great insights into th...     1.0\n",
              "2          10  Take Care of My Dog provides a refreshingly Di...     1.0\n",
              "3          15  Ultimately , it mulls the reason we need tales...     2.0\n",
              "4          20  Offers a breaths of the fresh sulfurous_smell_...     2.0"
            ]
          },
          "metadata": {
            "tags": []
          },
          "execution_count": 33
        }
      ]
    },
    {
      "cell_type": "code",
      "metadata": {
        "colab": {
          "base_uri": "https://localhost:8080/"
        },
        "id": "8TkDeaL3eZhR",
        "outputId": "6382d6a0-694e-4794-d90e-58d1ce0f45a9"
      },
      "source": [
        "for index, element in df.iterrows ():\n",
        "  if index % 5 != 0:\n",
        "    continue\n",
        "  sentence = element['tweets']\n",
        "  new_sentence, replaced_words = random_insertion (sentence, 5)\n",
        "  inserted.loc[index] = [new_sentence, element['labels']]\n",
        "  if index % 1000 == 0:\n",
        "    print (index)\n",
        "    print (\"original:\", sentence)\n",
        "    print (\"replaced_words:\", replaced_words)\n",
        "    print (\"new sentence:\", new_sentence)"
      ],
      "execution_count": null,
      "outputs": [
        {
          "output_type": "stream",
          "text": [
            "/usr/local/lib/python3.7/dist-packages/ipykernel_launcher.py:3: DeprecationWarning: Call to deprecated `wv` (Attribute will be removed in 4.0.0, use self instead).\n",
            "  This is separate from the ipykernel package so we can avoid doing imports until\n"
          ],
          "name": "stderr"
        },
        {
          "output_type": "stream",
          "text": [
            "0\n",
            "original: The Rock is destined to be the 21st Century 's new `` Conan '' and that he 's going to make a splash even greater than Arnold Schwarzenegger , Jean-Claud Van Damme or Steven Segal .\n",
            "replaced_words: [[0, 'Schwarzenegger', 'Gov._Arnold_Schwarzenegger'], [1, 'Arnold', 'Giunta_Bertucci_Funeral_Home'], [2, 'splash', 'splashes'], [3, '-', '-']]\n",
            "new sentence: The Rock is destined to be the 21st Century 's new `` Conan '' and that he 's going to make a splashes even greater than Giunta_Bertucci_Funeral_Home Gov._Giunta_Bertucci_Funeral_Home_Schwarzenegger , Jean-Claud Van Damme or Steven Segal .\n",
            "1000\n",
            "original: Frailty is n't as gory or explicit .\n",
            "replaced_words: [[0, '.', '.'], [1, 'Frailty', 'Typecasting']]\n",
            "new sentence: Typecasting is n't as gory or explicit .\n",
            "2000\n",
            "original: An average coming-of-age tale elevated by the wholesome twist of a pesky mother interfering during her son 's discovery of his homosexuality .\n",
            "replaced_words: [[0, 'coming', 'come'], [1, 'twist', 'twists'], [2, '-', '-'], [3, 'pesky', 'peskier'], [4, 'elevated', 'Elevated']]\n",
            "new sentence: An average come-of-age tale Elevated by the wholesome twists of a peskier mother interfering during her son 's discovery of his homosexuality .\n",
            "3000\n",
            "original: Discursive but oddly riveting documentary .\n",
            "replaced_words: [[0, 'documentary', 'documentaries'], [1, 'Discursive', 'Discursive'], [2, 'riveting', 'captivating']]\n",
            "new sentence: Discursive but oddly captivating documentaries .\n",
            "4000\n",
            "original: Spectacular in every sense of the word , even if you don ' t know an Orc from a Uruk-Hai .\n",
            "replaced_words: [[0, '-', '-'], [1, '.', '.'], [2, 'Orc', 'Orc_Trading'], [3, 'sense', 'humor_Jena_Elayan'], [4, ',', ',']]\n",
            "new sentence: Spectacular in every humor_Jena_Elayan of the word , even if you don ' t know an Orc_Trading from a Uruk-Hai .\n",
            "5000\n",
            "original: Ash Wednesday is not Edward Burns ' best film , but it is a good and ambitious film .\n",
            "replaced_words: [[0, 'Wednesday', 'Thursday'], [1, 'best', 'finest'], [2, ',', ','], [3, 'Edward', 'William']]\n",
            "new sentence: Ash Thursday is not William Burns ' finest film , but it is a good and ambitious film .\n",
            "6000\n",
            "original: There 's no good answer to that one .\n",
            "replaced_words: [[0, 'answer', 'answers'], [1, '.', '.'], [2, 'good', 'great']]\n",
            "new sentence: There 's no great answers to that one .\n",
            "7000\n",
            "original: Large budget notwithstanding , the movie is such a blip on the year 's radar screen that it 's tempting just to go with it for the ride .\n",
            "replaced_words: [[0, 'Large', 'large'], [2, 'screen', 'screens'], [4, 'ride', 'rides']]\n",
            "new sentence: large budget notwithstanding , the movie is such a blip on the year 's radar screens that it 's tempting just to go with it for the rides .\n",
            "8000\n",
            "original: After that , it just gets stupid and maudlin .\n",
            "replaced_words: [[0, 'gets', 'receives'], [2, 'stupid', 'dumb'], [3, 'maudlin', 'mawkish']]\n",
            "new sentence: After that , it just receives dumb and mawkish .\n",
            "9000\n",
            "original: Big Fat Liar is just futile silliness looking to tap into the kiddie sensibilities .\n",
            "replaced_words: [[0, 'Fat', 'dubbed_El_Gordo'], [2, 'looking', 'look'], [4, 'sensibilities', 'sensibility']]\n",
            "new sentence: Big dubbed_El_Gordo Liar is just futile silliness look to tap into the kiddie sensibility .\n",
            "10000\n",
            "original: In all the annals of the movies , few films have been this odd , inexplicable and unpleasant .\n",
            "replaced_words: [[0, 'unpleasant', 'unwelcome'], [1, ',', ','], [2, '.', '.'], [3, 'inexplicable', 'unexplainable']]\n",
            "new sentence: In all the annals of the movies , few films have been this odd , unexplainable and unwelcome .\n",
            "11000\n",
            "original: A thriller without a lot of thrills .\n",
            "replaced_words: [[0, '.', '.'], [1, 'thrills', 'thrill'], [2, 'lot', 'lots']]\n",
            "new sentence: A thriller without a lots of thrill .\n"
          ],
          "name": "stdout"
        }
      ]
    },
    {
      "cell_type": "code",
      "metadata": {
        "colab": {
          "base_uri": "https://localhost:8080/",
          "height": 196
        },
        "id": "4gx4OIjih5ET",
        "outputId": "cfbb1ba4-93b6-44f1-d482-e12d9faa2193"
      },
      "source": [
        "inserted.head ()"
      ],
      "execution_count": null,
      "outputs": [
        {
          "output_type": "execute_result",
          "data": {
            "text/html": [
              "<div>\n",
              "<style scoped>\n",
              "    .dataframe tbody tr th:only-of-type {\n",
              "        vertical-align: middle;\n",
              "    }\n",
              "\n",
              "    .dataframe tbody tr th {\n",
              "        vertical-align: top;\n",
              "    }\n",
              "\n",
              "    .dataframe thead th {\n",
              "        text-align: right;\n",
              "    }\n",
              "</style>\n",
              "<table border=\"1\" class=\"dataframe\">\n",
              "  <thead>\n",
              "    <tr style=\"text-align: right;\">\n",
              "      <th></th>\n",
              "      <th>tweets</th>\n",
              "      <th>labels</th>\n",
              "    </tr>\n",
              "  </thead>\n",
              "  <tbody>\n",
              "    <tr>\n",
              "      <th>0</th>\n",
              "      <td>The Rock is destined to be the 21st Century 's...</td>\n",
              "      <td>1.0</td>\n",
              "    </tr>\n",
              "    <tr>\n",
              "      <th>5</th>\n",
              "      <td>The movie provides some great insights into th...</td>\n",
              "      <td>1.0</td>\n",
              "    </tr>\n",
              "    <tr>\n",
              "      <th>10</th>\n",
              "      <td>Take Care of My Dog provides a refreshingly Di...</td>\n",
              "      <td>1.0</td>\n",
              "    </tr>\n",
              "    <tr>\n",
              "      <th>15</th>\n",
              "      <td>Ultimately , it mulls the reason we need tales...</td>\n",
              "      <td>2.0</td>\n",
              "    </tr>\n",
              "    <tr>\n",
              "      <th>20</th>\n",
              "      <td>Offers a breaths of the fresh sulfurous_smell_...</td>\n",
              "      <td>2.0</td>\n",
              "    </tr>\n",
              "  </tbody>\n",
              "</table>\n",
              "</div>"
            ],
            "text/plain": [
              "                                               tweets  labels\n",
              "0   The Rock is destined to be the 21st Century 's...     1.0\n",
              "5   The movie provides some great insights into th...     1.0\n",
              "10  Take Care of My Dog provides a refreshingly Di...     1.0\n",
              "15  Ultimately , it mulls the reason we need tales...     2.0\n",
              "20  Offers a breaths of the fresh sulfurous_smell_...     2.0"
            ]
          },
          "metadata": {
            "tags": []
          },
          "execution_count": 37
        }
      ]
    },
    {
      "cell_type": "code",
      "metadata": {
        "colab": {
          "base_uri": "https://localhost:8080/"
        },
        "id": "61vZ897Oh-4f",
        "outputId": "324777d1-6150-41e2-da57-ae7c8adb75fd"
      },
      "source": [
        "inserted.shape"
      ],
      "execution_count": null,
      "outputs": [
        {
          "output_type": "execute_result",
          "data": {
            "text/plain": [
              "(2371, 2)"
            ]
          },
          "metadata": {
            "tags": []
          },
          "execution_count": 38
        }
      ]
    },
    {
      "cell_type": "code",
      "metadata": {
        "colab": {
          "base_uri": "https://localhost:8080/"
        },
        "id": "QwBkbtF2iAHs",
        "outputId": "741a0f3f-4ef7-435c-d53c-430571954291"
      },
      "source": [
        "inserted.labels.value_counts ()"
      ],
      "execution_count": null,
      "outputs": [
        {
          "output_type": "execute_result",
          "data": {
            "text/plain": [
              "1.0    1296\n",
              "0.0     553\n",
              "2.0     522\n",
              "Name: labels, dtype: int64"
            ]
          },
          "metadata": {
            "tags": []
          },
          "execution_count": 39
        }
      ]
    },
    {
      "cell_type": "code",
      "metadata": {
        "id": "6YFLKMRaiCtw"
      },
      "source": [
        "inserted.to_csv ('inserted.csv')"
      ],
      "execution_count": null,
      "outputs": []
    },
    {
      "cell_type": "markdown",
      "metadata": {
        "id": "POqe39cIihkB"
      },
      "source": [
        "## Random Deletion"
      ]
    },
    {
      "cell_type": "code",
      "metadata": {
        "id": "P6chrJMsilPZ"
      },
      "source": [
        "import random\n",
        "def random_deletion(words, p=0.3):\n",
        "    words = words.split (' ')\n",
        "    n = len (words)\n",
        "    if n == 1: # return if single word\n",
        "        return words\n",
        "    remaining = list(filter(lambda x: random.uniform(0,1) > p,words))\n",
        "    #print (remaining) \n",
        "    if len(remaining) == 0: # if not left, sample a random word\n",
        "        return ' '.join ([random.choice(words)])\n",
        "    else:\n",
        "        return ' '.join (remaining)"
      ],
      "execution_count": 16,
      "outputs": []
    },
    {
      "cell_type": "code",
      "metadata": {
        "id": "XSl2mTcQipH3"
      },
      "source": [
        "r_del = pd.DataFrame (columns = ['tweets', 'labels'])"
      ],
      "execution_count": 17,
      "outputs": []
    },
    {
      "cell_type": "code",
      "metadata": {
        "colab": {
          "base_uri": "https://localhost:8080/"
        },
        "id": "eyp495JNirLv",
        "outputId": "1e083aef-9169-4f30-958b-4c7e73acc256"
      },
      "source": [
        "for index, element in df.iterrows ():\n",
        "  sentence = element['tweets']\n",
        "  new_sentence = random_deletion (element['tweets'])\n",
        "  r_del.loc[index] = [new_sentence, element['labels']]\n",
        "  if index % 1000 == 0:\n",
        "    print (index)\n",
        "    print (\"original:\", sentence)\n",
        "    print (\"new:\", new_sentence)\n",
        "  #break"
      ],
      "execution_count": 18,
      "outputs": [
        {
          "output_type": "stream",
          "text": [
            "0\n",
            "original: The Rock is destined to be the 21st Century 's new `` Conan '' and that he 's going to make a splash even greater than Arnold Schwarzenegger , Jean-Claud Van Damme or Steven Segal .\n",
            "new: The Rock the Century 's new `` Conan '' and he 's going to make a splash even than Arnold Schwarzenegger Jean-Claud Damme or Steven Segal .\n",
            "1000\n",
            "original: Frailty is n't as gory or explicit .\n",
            "new: Frailty is n't as gory explicit .\n",
            "2000\n",
            "original: An average coming-of-age tale elevated by the wholesome twist of a pesky mother interfering during her son 's discovery of his homosexuality .\n",
            "new: An tale elevated the wholesome twist a pesky mother interfering during son 's discovery of his .\n",
            "3000\n",
            "original: Discursive but oddly riveting documentary .\n",
            "new: Discursive but oddly riveting\n",
            "4000\n",
            "original: Spectacular in every sense of the word , even if you don ' t know an Orc from a Uruk-Hai .\n",
            "new: Spectacular every of the word , if you ' t Orc from a Uruk-Hai\n",
            "5000\n",
            "original: Ash Wednesday is not Edward Burns ' best film , but it is a good and ambitious film .\n",
            "new: Wednesday is not Edward Burns ' best film , but it is ambitious\n",
            "6000\n",
            "original: There 's no good answer to that one .\n",
            "new: 's good answer one .\n",
            "7000\n",
            "original: Large budget notwithstanding , the movie is such a blip on the year 's radar screen that it 's tempting just to go with it for the ride .\n",
            "new: Large budget notwithstanding , the movie is such the year 's radar it tempting just to go it the\n",
            "8000\n",
            "original: After that , it just gets stupid and maudlin .\n",
            "new: After , it gets stupid .\n",
            "9000\n",
            "original: Big Fat Liar is just futile silliness looking to tap into the kiddie sensibilities .\n",
            "new: Big Fat Liar is just futile silliness looking to into kiddie\n",
            "10000\n",
            "original: In all the annals of the movies , few films have been this odd , inexplicable and unpleasant .\n",
            "new: In the annals of movies , have odd , inexplicable and .\n",
            "11000\n",
            "original: A thriller without a lot of thrills .\n",
            "new: A thriller without a lot of .\n"
          ],
          "name": "stdout"
        }
      ]
    },
    {
      "cell_type": "code",
      "metadata": {
        "colab": {
          "base_uri": "https://localhost:8080/",
          "height": 0
        },
        "id": "J08alvtIitFi",
        "outputId": "18acb188-b5fe-4451-9a0e-25a8168cd9b8"
      },
      "source": [
        "r_del.head ()"
      ],
      "execution_count": 19,
      "outputs": [
        {
          "output_type": "execute_result",
          "data": {
            "text/html": [
              "<div>\n",
              "<style scoped>\n",
              "    .dataframe tbody tr th:only-of-type {\n",
              "        vertical-align: middle;\n",
              "    }\n",
              "\n",
              "    .dataframe tbody tr th {\n",
              "        vertical-align: top;\n",
              "    }\n",
              "\n",
              "    .dataframe thead th {\n",
              "        text-align: right;\n",
              "    }\n",
              "</style>\n",
              "<table border=\"1\" class=\"dataframe\">\n",
              "  <thead>\n",
              "    <tr style=\"text-align: right;\">\n",
              "      <th></th>\n",
              "      <th>tweets</th>\n",
              "      <th>labels</th>\n",
              "    </tr>\n",
              "  </thead>\n",
              "  <tbody>\n",
              "    <tr>\n",
              "      <th>0</th>\n",
              "      <td>The Rock the Century 's new `` Conan '' and he...</td>\n",
              "      <td>1.0</td>\n",
              "    </tr>\n",
              "    <tr>\n",
              "      <th>1</th>\n",
              "      <td>The gorgeously elaborate continuation `` Lord ...</td>\n",
              "      <td>1.0</td>\n",
              "    </tr>\n",
              "    <tr>\n",
              "      <th>2</th>\n",
              "      <td>Effective too-tepid biopic</td>\n",
              "      <td>1.0</td>\n",
              "    </tr>\n",
              "    <tr>\n",
              "      <th>3</th>\n",
              "      <td>If sometimes like to go the movies to have fun...</td>\n",
              "      <td>1.0</td>\n",
              "    </tr>\n",
              "    <tr>\n",
              "      <th>4</th>\n",
              "      <td>Emerges as something , an issue that 's so hon...</td>\n",
              "      <td>0.0</td>\n",
              "    </tr>\n",
              "  </tbody>\n",
              "</table>\n",
              "</div>"
            ],
            "text/plain": [
              "                                              tweets  labels\n",
              "0  The Rock the Century 's new `` Conan '' and he...     1.0\n",
              "1  The gorgeously elaborate continuation `` Lord ...     1.0\n",
              "2                         Effective too-tepid biopic     1.0\n",
              "3  If sometimes like to go the movies to have fun...     1.0\n",
              "4  Emerges as something , an issue that 's so hon...     0.0"
            ]
          },
          "metadata": {
            "tags": []
          },
          "execution_count": 19
        }
      ]
    },
    {
      "cell_type": "code",
      "metadata": {
        "colab": {
          "base_uri": "https://localhost:8080/"
        },
        "id": "HxI_HomTivlQ",
        "outputId": "3f567728-566d-4ddc-d331-5ccc4a98cfaa"
      },
      "source": [
        "r_del.shape"
      ],
      "execution_count": 20,
      "outputs": [
        {
          "output_type": "execute_result",
          "data": {
            "text/plain": [
              "(11855, 2)"
            ]
          },
          "metadata": {
            "tags": []
          },
          "execution_count": 20
        }
      ]
    },
    {
      "cell_type": "code",
      "metadata": {
        "colab": {
          "base_uri": "https://localhost:8080/"
        },
        "id": "vN4qEf1biyx_",
        "outputId": "fddffc57-ffe3-4b68-aec8-d87386bf7fd1"
      },
      "source": [
        "r_del.labels.value_counts ()"
      ],
      "execution_count": 21,
      "outputs": [
        {
          "output_type": "execute_result",
          "data": {
            "text/plain": [
              "1.0    6240\n",
              "0.0    2813\n",
              "2.0    2802\n",
              "Name: labels, dtype: int64"
            ]
          },
          "metadata": {
            "tags": []
          },
          "execution_count": 21
        }
      ]
    },
    {
      "cell_type": "code",
      "metadata": {
        "id": "0-ROluHIi1mO"
      },
      "source": [
        "r_del.to_csv ('deletion.csv')"
      ],
      "execution_count": 22,
      "outputs": []
    },
    {
      "cell_type": "markdown",
      "metadata": {
        "id": "A8Dgxb7h66cY"
      },
      "source": [
        "## Random Swap"
      ]
    },
    {
      "cell_type": "code",
      "metadata": {
        "id": "TI-t2dgJ69Ao"
      },
      "source": [
        "def random_swap(sentence, n=2):\n",
        "    sentence = sentence.split () \n",
        "    length = range(len(sentence))\n",
        "    swapped = []\n",
        "    for _ in range(n):\n",
        "        idx1, idx2 = random.sample(length, 2)\n",
        "        swapped.append ([sentence[idx1], sentence[idx2]])\n",
        "        sentence[idx1], sentence[idx2] = sentence[idx2], sentence[idx1] \n",
        "    return ' '.join (sentence), swapped"
      ],
      "execution_count": 23,
      "outputs": []
    },
    {
      "cell_type": "code",
      "metadata": {
        "colab": {
          "base_uri": "https://localhost:8080/"
        },
        "id": "_uCO8S-z7F9v",
        "outputId": "5154821c-0ff0-4cf8-d4db-ba9a7d1cb827"
      },
      "source": [
        "text = \"My name is Divyanshu Raj\"\n",
        "random_swap (text)"
      ],
      "execution_count": 24,
      "outputs": [
        {
          "output_type": "execute_result",
          "data": {
            "text/plain": [
              "('Raj name My Divyanshu is', [['My', 'Raj'], ['is', 'My']])"
            ]
          },
          "metadata": {
            "tags": []
          },
          "execution_count": 24
        }
      ]
    },
    {
      "cell_type": "code",
      "metadata": {
        "id": "4EMzdvw196zc"
      },
      "source": [
        "r_swap = pd.DataFrame (columns = ['tweets', 'labels'])"
      ],
      "execution_count": 25,
      "outputs": []
    },
    {
      "cell_type": "code",
      "metadata": {
        "colab": {
          "base_uri": "https://localhost:8080/"
        },
        "id": "sgYupK4Y984s",
        "outputId": "3c71ab9e-acfa-46d7-f5e1-85007aa7dda4"
      },
      "source": [
        "for index, element in df.iterrows ():\n",
        "  if index % 5 != 0:\n",
        "    continue\n",
        "  sentence = element['tweets']\n",
        "  new_sentence, swapped = random_swap (element['tweets'])\n",
        "  r_swap.loc[index] = [new_sentence, element['labels']]\n",
        "  if index % 1000 == 0:\n",
        "    print (index)\n",
        "    print (\"original:\", sentence)\n",
        "    print (\"swapped words:\", swapped)\n",
        "    print (\"replaced_words:\", new_sentence)\n",
        "  #break"
      ],
      "execution_count": 26,
      "outputs": [
        {
          "output_type": "stream",
          "text": [
            "0\n",
            "original: The Rock is destined to be the 21st Century 's new `` Conan '' and that he 's going to make a splash even greater than Arnold Schwarzenegger , Jean-Claud Van Damme or Steven Segal .\n",
            "swapped words: [['going', '21st'], ['.', 'Schwarzenegger']]\n",
            "replaced_words: The Rock is destined to be the going Century 's new `` Conan '' and that he 's 21st to make a splash even greater than Arnold . , Jean-Claud Van Damme or Steven Segal Schwarzenegger\n",
            "1000\n",
            "original: Frailty is n't as gory or explicit .\n",
            "swapped words: [['gory', \"n't\"], ['or', 'as']]\n",
            "replaced_words: Frailty is gory or n't as explicit .\n",
            "2000\n",
            "original: An average coming-of-age tale elevated by the wholesome twist of a pesky mother interfering during her son 's discovery of his homosexuality .\n",
            "swapped words: [['.', 'pesky'], ['her', 'the']]\n",
            "replaced_words: An average coming-of-age tale elevated by her wholesome twist of a . mother interfering during the son 's discovery of his homosexuality pesky\n",
            "3000\n",
            "original: Discursive but oddly riveting documentary .\n",
            "swapped words: [['oddly', '.'], ['.', 'documentary']]\n",
            "replaced_words: Discursive but documentary riveting . oddly\n",
            "4000\n",
            "original: Spectacular in every sense of the word , even if you don ' t know an Orc from a Uruk-Hai .\n",
            "swapped words: [[',', 't'], ['know', 'Orc']]\n",
            "replaced_words: Spectacular in every sense of the word t even if you don ' , Orc an know from a Uruk-Hai .\n",
            "5000\n",
            "original: Ash Wednesday is not Edward Burns ' best film , but it is a good and ambitious film .\n",
            "swapped words: [['film', 'Wednesday'], ['Ash', 'a']]\n",
            "replaced_words: a film is not Edward Burns ' best film , but it is Ash good and ambitious Wednesday .\n",
            "6000\n",
            "original: There 's no good answer to that one .\n",
            "swapped words: [[\"'s\", 'that'], ['answer', 'to']]\n",
            "replaced_words: There that no good to answer 's one .\n",
            "7000\n",
            "original: Large budget notwithstanding , the movie is such a blip on the year 's radar screen that it 's tempting just to go with it for the ride .\n",
            "swapped words: [['screen', 'movie'], ['.', 'radar']]\n",
            "replaced_words: Large budget notwithstanding , the screen is such a blip on the year 's . movie that it 's tempting just to go with it for the ride radar\n",
            "8000\n",
            "original: After that , it just gets stupid and maudlin .\n",
            "swapped words: [['stupid', 'it'], ['.', 'stupid']]\n",
            "replaced_words: After that , . just gets it and maudlin stupid\n",
            "9000\n",
            "original: Big Fat Liar is just futile silliness looking to tap into the kiddie sensibilities .\n",
            "swapped words: [['.', 'to'], ['just', 'the']]\n",
            "replaced_words: Big Fat Liar is the futile silliness looking . tap into just kiddie sensibilities to\n",
            "10000\n",
            "original: In all the annals of the movies , few films have been this odd , inexplicable and unpleasant .\n",
            "swapped words: [['In', 'have'], ['the', 'movies']]\n",
            "replaced_words: have all the annals of movies the , few films In been this odd , inexplicable and unpleasant .\n",
            "11000\n",
            "original: A thriller without a lot of thrills .\n",
            "swapped words: [['without', '.'], ['lot', 'thriller']]\n",
            "replaced_words: A lot . a thriller of thrills without\n"
          ],
          "name": "stdout"
        }
      ]
    },
    {
      "cell_type": "code",
      "metadata": {
        "colab": {
          "base_uri": "https://localhost:8080/",
          "height": 0
        },
        "id": "z7J21IrY-J9F",
        "outputId": "54498d37-cd2c-411c-895f-e19204be3326"
      },
      "source": [
        "r_swap.head ()"
      ],
      "execution_count": 27,
      "outputs": [
        {
          "output_type": "execute_result",
          "data": {
            "text/html": [
              "<div>\n",
              "<style scoped>\n",
              "    .dataframe tbody tr th:only-of-type {\n",
              "        vertical-align: middle;\n",
              "    }\n",
              "\n",
              "    .dataframe tbody tr th {\n",
              "        vertical-align: top;\n",
              "    }\n",
              "\n",
              "    .dataframe thead th {\n",
              "        text-align: right;\n",
              "    }\n",
              "</style>\n",
              "<table border=\"1\" class=\"dataframe\">\n",
              "  <thead>\n",
              "    <tr style=\"text-align: right;\">\n",
              "      <th></th>\n",
              "      <th>tweets</th>\n",
              "      <th>labels</th>\n",
              "    </tr>\n",
              "  </thead>\n",
              "  <tbody>\n",
              "    <tr>\n",
              "      <th>0</th>\n",
              "      <td>The Rock is destined to be the going Century '...</td>\n",
              "      <td>1.0</td>\n",
              "    </tr>\n",
              "    <tr>\n",
              "      <th>5</th>\n",
              "      <td>. film provides some great even into the neuro...</td>\n",
              "      <td>1.0</td>\n",
              "    </tr>\n",
              "    <tr>\n",
              "      <th>10</th>\n",
              "      <td>Take of of My a offers Cat refreshingly differ...</td>\n",
              "      <td>1.0</td>\n",
              "    </tr>\n",
              "    <tr>\n",
              "      <th>15</th>\n",
              "      <td>Ultimately , we stories the reasons it need po...</td>\n",
              "      <td>2.0</td>\n",
              "    </tr>\n",
              "    <tr>\n",
              "      <th>20</th>\n",
              "      <td>Offers the breath of a fresh air of true . sop...</td>\n",
              "      <td>2.0</td>\n",
              "    </tr>\n",
              "  </tbody>\n",
              "</table>\n",
              "</div>"
            ],
            "text/plain": [
              "                                               tweets  labels\n",
              "0   The Rock is destined to be the going Century '...     1.0\n",
              "5   . film provides some great even into the neuro...     1.0\n",
              "10  Take of of My a offers Cat refreshingly differ...     1.0\n",
              "15  Ultimately , we stories the reasons it need po...     2.0\n",
              "20  Offers the breath of a fresh air of true . sop...     2.0"
            ]
          },
          "metadata": {
            "tags": []
          },
          "execution_count": 27
        }
      ]
    },
    {
      "cell_type": "code",
      "metadata": {
        "colab": {
          "base_uri": "https://localhost:8080/"
        },
        "id": "O8eQzOHG-Mt1",
        "outputId": "a16d5694-d819-40ef-8684-a5109b80223c"
      },
      "source": [
        "r_swap.shape"
      ],
      "execution_count": 28,
      "outputs": [
        {
          "output_type": "execute_result",
          "data": {
            "text/plain": [
              "(2371, 2)"
            ]
          },
          "metadata": {
            "tags": []
          },
          "execution_count": 28
        }
      ]
    },
    {
      "cell_type": "code",
      "metadata": {
        "colab": {
          "base_uri": "https://localhost:8080/"
        },
        "id": "FnADIJcE-QHC",
        "outputId": "02dada1f-bdcc-40ba-ba95-9f8ea1197642"
      },
      "source": [
        "r_swap.labels.value_counts ()"
      ],
      "execution_count": 29,
      "outputs": [
        {
          "output_type": "execute_result",
          "data": {
            "text/plain": [
              "1.0    1296\n",
              "0.0     553\n",
              "2.0     522\n",
              "Name: labels, dtype: int64"
            ]
          },
          "metadata": {
            "tags": []
          },
          "execution_count": 29
        }
      ]
    },
    {
      "cell_type": "code",
      "metadata": {
        "id": "_u4oaFJI-S45"
      },
      "source": [
        "r_swap.to_csv ('swapped.csv')"
      ],
      "execution_count": 30,
      "outputs": []
    },
    {
      "cell_type": "markdown",
      "metadata": {
        "id": "OR_lFFqOi_cU"
      },
      "source": [
        "## Combine all the augmented data"
      ]
    },
    {
      "cell_type": "code",
      "metadata": {
        "colab": {
          "base_uri": "https://localhost:8080/",
          "height": 0
        },
        "id": "JZGW_caIPl_z",
        "outputId": "aa2b0434-776a-48aa-b0b7-48e0441f4f1c"
      },
      "source": [
        "df = df.append (translated, ignore_index=True)\n",
        "df = df.append (inserted, ignore_index=True)\n",
        "df = df.append (r_del, ignore_index=True)\n",
        "df = df.append (r_swap, ignore_index=True)\n",
        "df.head ()"
      ],
      "execution_count": 34,
      "outputs": [
        {
          "output_type": "execute_result",
          "data": {
            "text/html": [
              "<div>\n",
              "<style scoped>\n",
              "    .dataframe tbody tr th:only-of-type {\n",
              "        vertical-align: middle;\n",
              "    }\n",
              "\n",
              "    .dataframe tbody tr th {\n",
              "        vertical-align: top;\n",
              "    }\n",
              "\n",
              "    .dataframe thead th {\n",
              "        text-align: right;\n",
              "    }\n",
              "</style>\n",
              "<table border=\"1\" class=\"dataframe\">\n",
              "  <thead>\n",
              "    <tr style=\"text-align: right;\">\n",
              "      <th></th>\n",
              "      <th>tweets</th>\n",
              "      <th>labels</th>\n",
              "      <th>Unnamed: 0</th>\n",
              "    </tr>\n",
              "  </thead>\n",
              "  <tbody>\n",
              "    <tr>\n",
              "      <th>0</th>\n",
              "      <td>The Rock is destined to be the 21st Century 's...</td>\n",
              "      <td>1.0</td>\n",
              "      <td>NaN</td>\n",
              "    </tr>\n",
              "    <tr>\n",
              "      <th>1</th>\n",
              "      <td>The gorgeously elaborate continuation of `` Th...</td>\n",
              "      <td>1.0</td>\n",
              "      <td>NaN</td>\n",
              "    </tr>\n",
              "    <tr>\n",
              "      <th>2</th>\n",
              "      <td>Effective but too-tepid biopic</td>\n",
              "      <td>1.0</td>\n",
              "      <td>NaN</td>\n",
              "    </tr>\n",
              "    <tr>\n",
              "      <th>3</th>\n",
              "      <td>If you sometimes like to go to the movies to h...</td>\n",
              "      <td>1.0</td>\n",
              "      <td>NaN</td>\n",
              "    </tr>\n",
              "    <tr>\n",
              "      <th>4</th>\n",
              "      <td>Emerges as something rare , an issue movie tha...</td>\n",
              "      <td>0.0</td>\n",
              "      <td>NaN</td>\n",
              "    </tr>\n",
              "  </tbody>\n",
              "</table>\n",
              "</div>"
            ],
            "text/plain": [
              "                                              tweets  labels  Unnamed: 0\n",
              "0  The Rock is destined to be the 21st Century 's...     1.0         NaN\n",
              "1  The gorgeously elaborate continuation of `` Th...     1.0         NaN\n",
              "2                     Effective but too-tepid biopic     1.0         NaN\n",
              "3  If you sometimes like to go to the movies to h...     1.0         NaN\n",
              "4  Emerges as something rare , an issue movie tha...     0.0         NaN"
            ]
          },
          "metadata": {
            "tags": []
          },
          "execution_count": 34
        }
      ]
    },
    {
      "cell_type": "code",
      "metadata": {
        "colab": {
          "base_uri": "https://localhost:8080/"
        },
        "id": "boOzaEfu_k-k",
        "outputId": "56342166-1b52-47c1-8fd1-717e0dfe3d5a"
      },
      "source": [
        "df.shape"
      ],
      "execution_count": 35,
      "outputs": [
        {
          "output_type": "execute_result",
          "data": {
            "text/plain": [
              "(30247, 3)"
            ]
          },
          "metadata": {
            "tags": []
          },
          "execution_count": 35
        }
      ]
    },
    {
      "cell_type": "code",
      "metadata": {
        "colab": {
          "base_uri": "https://localhost:8080/"
        },
        "id": "D-qgzqFz_mG5",
        "outputId": "bebae936-1cc8-4849-b37d-5e5cc87b4206"
      },
      "source": [
        "df.labels.value_counts ()"
      ],
      "execution_count": 36,
      "outputs": [
        {
          "output_type": "execute_result",
          "data": {
            "text/plain": [
              "1.0    16035\n",
              "0.0     7149\n",
              "2.0     7063\n",
              "Name: labels, dtype: int64"
            ]
          },
          "metadata": {
            "tags": []
          },
          "execution_count": 36
        }
      ]
    },
    {
      "cell_type": "code",
      "metadata": {
        "colab": {
          "base_uri": "https://localhost:8080/",
          "height": 0
        },
        "id": "-fSiP_HG_opk",
        "outputId": "9603b08a-4ce7-450e-e783-83bc2cda6c9d"
      },
      "source": [
        "indexes = []\n",
        "for index, element in df.iterrows ():\n",
        "  #print (element)\n",
        "  try:\n",
        "    if len (element['tweets']) == 0:\n",
        "      df.at[index, 'tweets'] = 'not applicable'\n",
        "      indexes.append (index)\n",
        "  except:\n",
        "      df.at[index, 'tweets'] = 'not applicable'\n",
        "      indexes.append (index)\n",
        "\n",
        "print (indexes)\n",
        "df = df.drop (indexes)\n",
        "\n",
        "df.head ()"
      ],
      "execution_count": 37,
      "outputs": [
        {
          "output_type": "stream",
          "text": [
            "[]\n"
          ],
          "name": "stdout"
        },
        {
          "output_type": "execute_result",
          "data": {
            "text/html": [
              "<div>\n",
              "<style scoped>\n",
              "    .dataframe tbody tr th:only-of-type {\n",
              "        vertical-align: middle;\n",
              "    }\n",
              "\n",
              "    .dataframe tbody tr th {\n",
              "        vertical-align: top;\n",
              "    }\n",
              "\n",
              "    .dataframe thead th {\n",
              "        text-align: right;\n",
              "    }\n",
              "</style>\n",
              "<table border=\"1\" class=\"dataframe\">\n",
              "  <thead>\n",
              "    <tr style=\"text-align: right;\">\n",
              "      <th></th>\n",
              "      <th>tweets</th>\n",
              "      <th>labels</th>\n",
              "      <th>Unnamed: 0</th>\n",
              "    </tr>\n",
              "  </thead>\n",
              "  <tbody>\n",
              "    <tr>\n",
              "      <th>0</th>\n",
              "      <td>The Rock is destined to be the 21st Century 's...</td>\n",
              "      <td>1.0</td>\n",
              "      <td>NaN</td>\n",
              "    </tr>\n",
              "    <tr>\n",
              "      <th>1</th>\n",
              "      <td>The gorgeously elaborate continuation of `` Th...</td>\n",
              "      <td>1.0</td>\n",
              "      <td>NaN</td>\n",
              "    </tr>\n",
              "    <tr>\n",
              "      <th>2</th>\n",
              "      <td>Effective but too-tepid biopic</td>\n",
              "      <td>1.0</td>\n",
              "      <td>NaN</td>\n",
              "    </tr>\n",
              "    <tr>\n",
              "      <th>3</th>\n",
              "      <td>If you sometimes like to go to the movies to h...</td>\n",
              "      <td>1.0</td>\n",
              "      <td>NaN</td>\n",
              "    </tr>\n",
              "    <tr>\n",
              "      <th>4</th>\n",
              "      <td>Emerges as something rare , an issue movie tha...</td>\n",
              "      <td>0.0</td>\n",
              "      <td>NaN</td>\n",
              "    </tr>\n",
              "  </tbody>\n",
              "</table>\n",
              "</div>"
            ],
            "text/plain": [
              "                                              tweets  labels  Unnamed: 0\n",
              "0  The Rock is destined to be the 21st Century 's...     1.0         NaN\n",
              "1  The gorgeously elaborate continuation of `` Th...     1.0         NaN\n",
              "2                     Effective but too-tepid biopic     1.0         NaN\n",
              "3  If you sometimes like to go to the movies to h...     1.0         NaN\n",
              "4  Emerges as something rare , an issue movie tha...     0.0         NaN"
            ]
          },
          "metadata": {
            "tags": []
          },
          "execution_count": 37
        }
      ]
    },
    {
      "cell_type": "code",
      "metadata": {
        "colab": {
          "base_uri": "https://localhost:8080/"
        },
        "id": "E31w85qIHfHh",
        "outputId": "e5c7a2b6-630c-421c-e7c9-beab99515749"
      },
      "source": [
        "df.shape"
      ],
      "execution_count": 38,
      "outputs": [
        {
          "output_type": "execute_result",
          "data": {
            "text/plain": [
              "(30247, 3)"
            ]
          },
          "metadata": {
            "tags": []
          },
          "execution_count": 38
        }
      ]
    },
    {
      "cell_type": "code",
      "metadata": {
        "colab": {
          "base_uri": "https://localhost:8080/",
          "height": 0
        },
        "id": "4lm_X30W_x3v",
        "outputId": "9da9e2e7-9e83-48d9-8ad8-857d82daed86"
      },
      "source": [
        "df.reindex ([i for i in range (30247)])"
      ],
      "execution_count": 39,
      "outputs": [
        {
          "output_type": "execute_result",
          "data": {
            "text/html": [
              "<div>\n",
              "<style scoped>\n",
              "    .dataframe tbody tr th:only-of-type {\n",
              "        vertical-align: middle;\n",
              "    }\n",
              "\n",
              "    .dataframe tbody tr th {\n",
              "        vertical-align: top;\n",
              "    }\n",
              "\n",
              "    .dataframe thead th {\n",
              "        text-align: right;\n",
              "    }\n",
              "</style>\n",
              "<table border=\"1\" class=\"dataframe\">\n",
              "  <thead>\n",
              "    <tr style=\"text-align: right;\">\n",
              "      <th></th>\n",
              "      <th>tweets</th>\n",
              "      <th>labels</th>\n",
              "      <th>Unnamed: 0</th>\n",
              "    </tr>\n",
              "  </thead>\n",
              "  <tbody>\n",
              "    <tr>\n",
              "      <th>0</th>\n",
              "      <td>The Rock is destined to be the 21st Century 's...</td>\n",
              "      <td>1.0</td>\n",
              "      <td>NaN</td>\n",
              "    </tr>\n",
              "    <tr>\n",
              "      <th>1</th>\n",
              "      <td>The gorgeously elaborate continuation of `` Th...</td>\n",
              "      <td>1.0</td>\n",
              "      <td>NaN</td>\n",
              "    </tr>\n",
              "    <tr>\n",
              "      <th>2</th>\n",
              "      <td>Effective but too-tepid biopic</td>\n",
              "      <td>1.0</td>\n",
              "      <td>NaN</td>\n",
              "    </tr>\n",
              "    <tr>\n",
              "      <th>3</th>\n",
              "      <td>If you sometimes like to go to the movies to h...</td>\n",
              "      <td>1.0</td>\n",
              "      <td>NaN</td>\n",
              "    </tr>\n",
              "    <tr>\n",
              "      <th>4</th>\n",
              "      <td>Emerges as something rare , an issue movie tha...</td>\n",
              "      <td>0.0</td>\n",
              "      <td>NaN</td>\n",
              "    </tr>\n",
              "    <tr>\n",
              "      <th>...</th>\n",
              "      <td>...</td>\n",
              "      <td>...</td>\n",
              "      <td>...</td>\n",
              "    </tr>\n",
              "    <tr>\n",
              "      <th>30242</th>\n",
              "      <td>into . hogwash Degenerates</td>\n",
              "      <td>2.0</td>\n",
              "      <td>NaN</td>\n",
              "    </tr>\n",
              "    <tr>\n",
              "      <th>30243</th>\n",
              "      <td>pic . Inconsequential road-and-buddy</td>\n",
              "      <td>2.0</td>\n",
              "      <td>NaN</td>\n",
              "    </tr>\n",
              "    <tr>\n",
              "      <th>30244</th>\n",
              "      <td>comedy A . poorly executed -LRB- -RRB-</td>\n",
              "      <td>1.0</td>\n",
              "      <td>NaN</td>\n",
              "    </tr>\n",
              "    <tr>\n",
              "      <th>30245</th>\n",
              "      <td>tale . Rashomon-for-dipsticks</td>\n",
              "      <td>1.0</td>\n",
              "      <td>NaN</td>\n",
              "    </tr>\n",
              "    <tr>\n",
              "      <th>30246</th>\n",
              "      <td>snooze A real .</td>\n",
              "      <td>0.0</td>\n",
              "      <td>NaN</td>\n",
              "    </tr>\n",
              "  </tbody>\n",
              "</table>\n",
              "<p>30247 rows × 3 columns</p>\n",
              "</div>"
            ],
            "text/plain": [
              "                                                  tweets  labels  Unnamed: 0\n",
              "0      The Rock is destined to be the 21st Century 's...     1.0         NaN\n",
              "1      The gorgeously elaborate continuation of `` Th...     1.0         NaN\n",
              "2                         Effective but too-tepid biopic     1.0         NaN\n",
              "3      If you sometimes like to go to the movies to h...     1.0         NaN\n",
              "4      Emerges as something rare , an issue movie tha...     0.0         NaN\n",
              "...                                                  ...     ...         ...\n",
              "30242                         into . hogwash Degenerates     2.0         NaN\n",
              "30243               pic . Inconsequential road-and-buddy     2.0         NaN\n",
              "30244             comedy A . poorly executed -LRB- -RRB-     1.0         NaN\n",
              "30245                      tale . Rashomon-for-dipsticks     1.0         NaN\n",
              "30246                                    snooze A real .     0.0         NaN\n",
              "\n",
              "[30247 rows x 3 columns]"
            ]
          },
          "metadata": {
            "tags": []
          },
          "execution_count": 39
        }
      ]
    },
    {
      "cell_type": "code",
      "metadata": {
        "colab": {
          "base_uri": "https://localhost:8080/"
        },
        "id": "0Ck3SLvU_9Zp",
        "outputId": "9fa4f19d-0497-49f3-f7f8-e601d8f168a2"
      },
      "source": [
        "df.shape"
      ],
      "execution_count": 40,
      "outputs": [
        {
          "output_type": "execute_result",
          "data": {
            "text/plain": [
              "(30247, 3)"
            ]
          },
          "metadata": {
            "tags": []
          },
          "execution_count": 40
        }
      ]
    },
    {
      "cell_type": "code",
      "metadata": {
        "colab": {
          "base_uri": "https://localhost:8080/"
        },
        "id": "2phhzVZjAAIm",
        "outputId": "3625e38f-aca5-44ff-8dd3-e024bfe0f2ac"
      },
      "source": [
        "df.labels.value_counts ()"
      ],
      "execution_count": 41,
      "outputs": [
        {
          "output_type": "execute_result",
          "data": {
            "text/plain": [
              "1.0    16035\n",
              "0.0     7149\n",
              "2.0     7063\n",
              "Name: labels, dtype: int64"
            ]
          },
          "metadata": {
            "tags": []
          },
          "execution_count": 41
        }
      ]
    },
    {
      "cell_type": "code",
      "metadata": {
        "id": "aFRL7UCAACUi"
      },
      "source": [
        "df.to_csv ('final_data.csv')"
      ],
      "execution_count": 42,
      "outputs": []
    },
    {
      "cell_type": "markdown",
      "metadata": {
        "id": "8ig69iiGAa-3"
      },
      "source": [
        "# Model Training"
      ]
    },
    {
      "cell_type": "code",
      "metadata": {
        "colab": {
          "base_uri": "https://localhost:8080/"
        },
        "id": "Si1kLP4tBNXS",
        "outputId": "a560f3b3-9a3a-4b62-f461-5a470cdc2b6a"
      },
      "source": [
        "# Import Library\n",
        "import random\n",
        "import torch, torchtext\n",
        "from torchtext.legacy import data \n",
        "\n",
        "# Manual Seed\n",
        "SEED = 43\n",
        "torch.manual_seed(SEED)"
      ],
      "execution_count": 43,
      "outputs": [
        {
          "output_type": "execute_result",
          "data": {
            "text/plain": [
              "<torch._C.Generator at 0x7f94688243f0>"
            ]
          },
          "metadata": {
            "tags": []
          },
          "execution_count": 43
        }
      ]
    },
    {
      "cell_type": "code",
      "metadata": {
        "id": "smEWIHSLB9z8"
      },
      "source": [
        "device = torch.device(\"cuda\" if torch.cuda.is_available() else \"cpu\")"
      ],
      "execution_count": 44,
      "outputs": []
    },
    {
      "cell_type": "markdown",
      "metadata": {
        "id": "ugkw52BKAgh3"
      },
      "source": [
        "## Defining Fields"
      ]
    },
    {
      "cell_type": "code",
      "metadata": {
        "id": "gb1s45M6BWhI"
      },
      "source": [
        "Tweet = data.Field(sequential = True, tokenize = 'spacy', batch_first =True, include_lengths=True)\n",
        "Label = data.LabelField(tokenize ='spacy', is_target=True, batch_first =True, sequential =False)"
      ],
      "execution_count": 45,
      "outputs": []
    },
    {
      "cell_type": "code",
      "metadata": {
        "id": "SFuRn7zNBfCZ"
      },
      "source": [
        "fields = [('tweets', Tweet),('labels',Label)]"
      ],
      "execution_count": 46,
      "outputs": []
    },
    {
      "cell_type": "code",
      "metadata": {
        "id": "SNwpN87YBqJe"
      },
      "source": [
        "example = [data.Example.fromlist([df.tweets[i],df.labels[i]], fields) for i in range(1, df.shape[0])]"
      ],
      "execution_count": 47,
      "outputs": []
    },
    {
      "cell_type": "code",
      "metadata": {
        "id": "aPC-8a8jBsw3"
      },
      "source": [
        "twitterDataset = data.Dataset(example, fields)"
      ],
      "execution_count": 48,
      "outputs": []
    },
    {
      "cell_type": "code",
      "metadata": {
        "colab": {
          "base_uri": "https://localhost:8080/"
        },
        "id": "n4MnoquiBu_y",
        "outputId": "553c6b7a-4eff-436c-e37e-fdee5847f7be"
      },
      "source": [
        "for element in twitterDataset:\n",
        "  print (vars(element))\n",
        "  break"
      ],
      "execution_count": 49,
      "outputs": [
        {
          "output_type": "stream",
          "text": [
            "{'tweets': ['The', 'gorgeously', 'elaborate', 'continuation', 'of', '`', '`', 'The', 'Lord', 'of', 'the', 'Rings', \"''\", 'trilogy', 'is', 'so', 'huge', 'that', 'a', 'column', 'of', 'words', 'can', 'not', 'adequately', 'describe', 'co', '-', 'writer\\\\/director', 'Peter', 'Jackson', \"'s\", 'expanded', 'vision', 'of', 'J.R.R.', 'Tolkien', \"'s\", 'Middle', '-', 'earth', '.'], 'labels': 1.0}\n"
          ],
          "name": "stdout"
        }
      ]
    },
    {
      "cell_type": "code",
      "metadata": {
        "id": "cRCJ2TwoBxlj"
      },
      "source": [
        "(train, valid) = twitterDataset.split(split_ratio=[0.85, 0.15], random_state=random.seed(SEED))"
      ],
      "execution_count": 50,
      "outputs": []
    },
    {
      "cell_type": "code",
      "metadata": {
        "colab": {
          "base_uri": "https://localhost:8080/"
        },
        "id": "AuMQDTINBzPP",
        "outputId": "8f1fc207-09d2-49dc-deee-4393397ee129"
      },
      "source": [
        "(len(train), len(valid))"
      ],
      "execution_count": 51,
      "outputs": [
        {
          "output_type": "execute_result",
          "data": {
            "text/plain": [
              "(25709, 4537)"
            ]
          },
          "metadata": {
            "tags": []
          },
          "execution_count": 51
        }
      ]
    },
    {
      "cell_type": "code",
      "metadata": {
        "colab": {
          "base_uri": "https://localhost:8080/"
        },
        "id": "FsJoaOsCB1S7",
        "outputId": "dc4baca1-bfb5-4efe-e49c-a7ec60a4da28"
      },
      "source": [
        "vars(train.examples[10])"
      ],
      "execution_count": 52,
      "outputs": [
        {
          "output_type": "execute_result",
          "data": {
            "text/plain": [
              "{'labels': 1.0,\n",
              " 'tweets': ['You', 'do', \"n't\", 'want', 'to', 'call', 'the', 'cops', '.']}"
            ]
          },
          "metadata": {
            "tags": []
          },
          "execution_count": 52
        }
      ]
    },
    {
      "cell_type": "markdown",
      "metadata": {
        "id": "jP-nyKM5Attb"
      },
      "source": [
        "## Building Vocabulary"
      ]
    },
    {
      "cell_type": "code",
      "metadata": {
        "id": "ZvFMCNamB4AR"
      },
      "source": [
        "Tweet.build_vocab(train)\n",
        "Label.build_vocab(train)"
      ],
      "execution_count": 53,
      "outputs": []
    },
    {
      "cell_type": "code",
      "metadata": {
        "id": "6Tlu5sruB4dH",
        "colab": {
          "base_uri": "https://localhost:8080/"
        },
        "outputId": "a7b1e5db-7ef8-4879-ff75-745c736166d1"
      },
      "source": [
        "print('Size of input vocab : ', len(Tweet.vocab))\n",
        "print('Size of label vocab : ', len(Label.vocab))\n",
        "print('Top 10 words appreared repeatedly :', list(Tweet.vocab.freqs.most_common(10)))\n",
        "print('Labels : ', Label.vocab.stoi)"
      ],
      "execution_count": 54,
      "outputs": [
        {
          "output_type": "stream",
          "text": [
            "Size of input vocab :  22699\n",
            "Size of label vocab :  3\n",
            "Top 10 words appreared repeatedly : [('.', 21464), (',', 19271), ('the', 16478), ('and', 11906), ('of', 11816), ('a', 11811), ('to', 8009), ('-', 7128), ('is', 6954), (\"'s\", 6567)]\n",
            "Labels :  defaultdict(None, {1.0: 0, 0.0: 1, 2.0: 2})\n"
          ],
          "name": "stdout"
        }
      ]
    },
    {
      "cell_type": "code",
      "metadata": {
        "id": "eL7bZWq6B6hp"
      },
      "source": [
        "train_iterator, valid_iterator = data.BucketIterator.splits((train, valid), batch_size = 32, \n",
        "                                                            sort_key = lambda x: len(x.tweets),\n",
        "                                                            sort_within_batch=True, device = device)"
      ],
      "execution_count": 55,
      "outputs": []
    },
    {
      "cell_type": "code",
      "metadata": {
        "id": "hvlAgWzICELT"
      },
      "source": [
        "import os, pickle\n",
        "with open('tokenizer.pkl', 'wb') as tokens: \n",
        "    pickle.dump(Tweet.vocab.stoi, tokens)"
      ],
      "execution_count": 56,
      "outputs": []
    },
    {
      "cell_type": "markdown",
      "metadata": {
        "id": "vGkSVJlfAxzB"
      },
      "source": [
        "## Defining Model"
      ]
    },
    {
      "cell_type": "code",
      "metadata": {
        "id": "6bK5WJLRCFUu"
      },
      "source": [
        "import torch.nn as nn\n",
        "import torch.nn.functional as F\n",
        "\n",
        "class classifier(nn.Module):\n",
        "    \n",
        "    # Define all the layers used in model\n",
        "    def __init__(self, vocab_size, embedding_dim, hidden_dim, output_dim, n_layers, dropout):\n",
        "        \n",
        "        super().__init__()          \n",
        "        \n",
        "        # Embedding layer\n",
        "        self.embedding = nn.Embedding(vocab_size, embedding_dim)\n",
        "        \n",
        "        # LSTM layer\n",
        "        self.encoder = nn.LSTM(embedding_dim, \n",
        "                           hidden_dim, \n",
        "                           num_layers=n_layers, \n",
        "                           dropout=dropout,\n",
        "                           batch_first=True)\n",
        "        # try using nn.GRU or nn.RNN here and compare their performances\n",
        "        # try bidirectional and compare their performances\n",
        "        \n",
        "        # Dense layer\n",
        "        self.fc = nn.Linear(hidden_dim, output_dim)\n",
        "        \n",
        "    def forward(self, text, text_lengths):\n",
        "        \n",
        "        # text = [batch size, sent_length]\n",
        "        embedded = self.embedding(text)\n",
        "        # embedded = [batch size, sent_len, emb dim]\n",
        "      \n",
        "        # packed sequence\n",
        "        packed_embedded = nn.utils.rnn.pack_padded_sequence(embedded, text_lengths.cpu(), batch_first=True)\n",
        "        \n",
        "        packed_output, (hidden, cell) = self.encoder(packed_embedded)\n",
        "        #hidden = [batch size, num layers * num directions,hid dim]\n",
        "        #cell = [batch size, num layers * num directions,hid dim]\n",
        "    \n",
        "        # Hidden = [batch size, hid dim * num directions]\n",
        "        dense_outputs = self.fc(hidden)   \n",
        "        \n",
        "        # Final activation function softmax\n",
        "        output = F.softmax(dense_outputs[0], dim=1)\n",
        "            \n",
        "        return output"
      ],
      "execution_count": 57,
      "outputs": []
    },
    {
      "cell_type": "code",
      "metadata": {
        "id": "9IPtqsoyCLBq"
      },
      "source": [
        "# Define hyperparameters\n",
        "size_of_vocab = len(Tweet.vocab)\n",
        "embedding_dim = 300\n",
        "num_hidden_nodes = 100\n",
        "num_output_nodes = 3\n",
        "num_layers = 2\n",
        "dropout = 0.2\n",
        "\n",
        "# Instantiate the model\n",
        "model = classifier(size_of_vocab, embedding_dim, num_hidden_nodes, num_output_nodes, num_layers, dropout = dropout)"
      ],
      "execution_count": 58,
      "outputs": []
    },
    {
      "cell_type": "code",
      "metadata": {
        "id": "vvp3nWVKCQCa",
        "colab": {
          "base_uri": "https://localhost:8080/"
        },
        "outputId": "79b3b36f-1f22-4de0-c67e-23f7091689f5"
      },
      "source": [
        "print(model)\n",
        "\n",
        "#No. of trianable parameters\n",
        "def count_parameters(model):\n",
        "    return sum(p.numel() for p in model.parameters() if p.requires_grad)\n",
        "    \n",
        "print(f'The model has {count_parameters(model):,} trainable parameters')"
      ],
      "execution_count": 59,
      "outputs": [
        {
          "output_type": "stream",
          "text": [
            "classifier(\n",
            "  (embedding): Embedding(22699, 300)\n",
            "  (encoder): LSTM(300, 100, num_layers=2, batch_first=True, dropout=0.2)\n",
            "  (fc): Linear(in_features=100, out_features=3, bias=True)\n",
            ")\n",
            "The model has 7,051,603 trainable parameters\n"
          ],
          "name": "stdout"
        }
      ]
    },
    {
      "cell_type": "markdown",
      "metadata": {
        "id": "GT6vDic6A0uc"
      },
      "source": [
        "## Training and Evaluation"
      ]
    },
    {
      "cell_type": "code",
      "metadata": {
        "id": "PUWx2wOsCX9A"
      },
      "source": [
        "import torch.optim as optim\n",
        "\n",
        "# define optimizer and loss\n",
        "optimizer = optim.Adam(model.parameters(), lr=2e-4)\n",
        "criterion = nn.CrossEntropyLoss()\n",
        "\n",
        "# define metric\n",
        "def binary_accuracy(preds, y):\n",
        "    #round predictions to the closest integer\n",
        "    _, predictions = torch.max(preds, 1)\n",
        "    \n",
        "    correct = (predictions == y).float() \n",
        "    acc = correct.sum() / len(correct)\n",
        "    return acc\n",
        "    \n",
        "# push to cuda if available\n",
        "model = model.to(device)\n",
        "criterion = criterion.to(device)"
      ],
      "execution_count": 60,
      "outputs": []
    },
    {
      "cell_type": "code",
      "metadata": {
        "id": "4Ksbd0oFCamV"
      },
      "source": [
        "def train(model, iterator, optimizer, criterion):\n",
        "    \n",
        "    # initialize every epoch \n",
        "    epoch_loss = 0\n",
        "    epoch_acc = 0\n",
        "    \n",
        "    # set the model in training phase\n",
        "    model.train()  \n",
        "    \n",
        "    for batch in iterator:\n",
        "        \n",
        "        # resets the gradients after every batch\n",
        "        optimizer.zero_grad()   \n",
        "        \n",
        "        # retrieve text and no. of words\n",
        "        tweet, tweet_lengths = batch.tweets   \n",
        "        #print (tweet, tweet_lengths)\n",
        "        #break\n",
        "        # convert to 1D tensor\n",
        "        predictions = model(tweet, tweet_lengths).squeeze()  \n",
        "        \n",
        "        # compute the loss\n",
        "        loss = criterion(predictions, batch.labels)        \n",
        "        \n",
        "        # compute the binary accuracy\n",
        "        acc = binary_accuracy(predictions, batch.labels)   \n",
        "        \n",
        "        # backpropage the loss and compute the gradients\n",
        "        loss.backward()       \n",
        "        \n",
        "        # update the weights\n",
        "        optimizer.step()      \n",
        "        \n",
        "        # loss and accuracy\n",
        "        epoch_loss += loss.item()  \n",
        "        epoch_acc += acc.item()    \n",
        "        \n",
        "    return epoch_loss / len(iterator), epoch_acc / len(iterator)"
      ],
      "execution_count": 61,
      "outputs": []
    },
    {
      "cell_type": "code",
      "metadata": {
        "id": "d_7iY0xACeHv"
      },
      "source": [
        "def evaluate(model, iterator, criterion):\n",
        "    \n",
        "    # initialize every epoch\n",
        "    epoch_loss = 0\n",
        "    epoch_acc = 0\n",
        "\n",
        "    # deactivating dropout layers\n",
        "    model.eval()\n",
        "    \n",
        "    # deactivates autograd\n",
        "    with torch.no_grad():\n",
        "    \n",
        "        for batch in iterator:\n",
        "        \n",
        "            # retrieve text and no. of words\n",
        "            tweet, tweet_lengths = batch.tweets\n",
        "            #print (tweet, tweet_lengths)\n",
        "            \n",
        "            # convert to 1d tensor\n",
        "            predictions = model(tweet, tweet_lengths).squeeze()\n",
        "            \n",
        "            # compute loss and accuracy\n",
        "            loss = criterion(predictions, batch.labels)\n",
        "            acc = binary_accuracy(predictions, batch.labels)\n",
        "            \n",
        "            # keep track of loss and accuracy\n",
        "            epoch_loss += loss.item()\n",
        "            epoch_acc += acc.item()\n",
        "        \n",
        "    return epoch_loss / len(iterator), epoch_acc / len(iterator)"
      ],
      "execution_count": 62,
      "outputs": []
    },
    {
      "cell_type": "code",
      "metadata": {
        "id": "JZR3YPPSCl-z",
        "colab": {
          "base_uri": "https://localhost:8080/"
        },
        "outputId": "77fb5595-5155-441d-9068-ce0f5a883514"
      },
      "source": [
        "N_EPOCHS = 10\n",
        "best_valid_loss = float('inf')\n",
        "\n",
        "for epoch in range(N_EPOCHS):\n",
        "     \n",
        "    # train the model\n",
        "    train_loss, train_acc = train(model, train_iterator, optimizer, criterion)\n",
        "    \n",
        "    # evaluate the model\n",
        "    valid_loss, valid_acc = evaluate(model, valid_iterator, criterion)\n",
        "    \n",
        "    # save the best model\n",
        "    if valid_loss < best_valid_loss:\n",
        "        best_valid_loss = valid_loss\n",
        "        torch.save(model.state_dict(), 'saved_weights.pt')\n",
        "    \n",
        "    print(f'\\tTrain Loss: {train_loss:.3f} | Train Acc: {train_acc*100:.2f}%')\n",
        "    print(f'\\t Val. Loss: {valid_loss:.3f} |  Val. Acc: {valid_acc*100:.2f}% \\n')"
      ],
      "execution_count": 63,
      "outputs": [
        {
          "output_type": "stream",
          "text": [
            "\tTrain Loss: 1.024 | Train Acc: 52.17%\n",
            "\t Val. Loss: 1.026 |  Val. Acc: 51.97% \n",
            "\n",
            "\tTrain Loss: 1.009 | Train Acc: 53.30%\n",
            "\t Val. Loss: 1.015 |  Val. Acc: 52.04% \n",
            "\n",
            "\tTrain Loss: 0.975 | Train Acc: 55.87%\n",
            "\t Val. Loss: 0.995 |  Val. Acc: 53.73% \n",
            "\n",
            "\tTrain Loss: 0.915 | Train Acc: 63.19%\n",
            "\t Val. Loss: 0.969 |  Val. Acc: 56.82% \n",
            "\n",
            "\tTrain Loss: 0.854 | Train Acc: 70.68%\n",
            "\t Val. Loss: 0.946 |  Val. Acc: 59.57% \n",
            "\n",
            "\tTrain Loss: 0.804 | Train Acc: 75.80%\n",
            "\t Val. Loss: 0.929 |  Val. Acc: 61.46% \n",
            "\n",
            "\tTrain Loss: 0.763 | Train Acc: 80.16%\n",
            "\t Val. Loss: 0.909 |  Val. Acc: 63.42% \n",
            "\n",
            "\tTrain Loss: 0.730 | Train Acc: 83.36%\n",
            "\t Val. Loss: 0.896 |  Val. Acc: 65.09% \n",
            "\n",
            "\tTrain Loss: 0.706 | Train Acc: 85.70%\n",
            "\t Val. Loss: 0.891 |  Val. Acc: 65.29% \n",
            "\n",
            "\tTrain Loss: 0.689 | Train Acc: 87.29%\n",
            "\t Val. Loss: 0.887 |  Val. Acc: 65.53% \n",
            "\n"
          ],
          "name": "stdout"
        }
      ]
    },
    {
      "cell_type": "markdown",
      "metadata": {
        "id": "eXmEVzh-A4lf"
      },
      "source": [
        "## Testing"
      ]
    },
    {
      "cell_type": "code",
      "metadata": {
        "id": "LxErX502Cpj0"
      },
      "source": [
        "#load weights and tokenizer\n",
        "\n",
        "path='./saved_weights.pt'\n",
        "model.load_state_dict(torch.load(path));\n",
        "model.eval();\n",
        "tokenizer_file = open('./tokenizer.pkl', 'rb')\n",
        "tokenizer = pickle.load(tokenizer_file)\n",
        "\n",
        "#inference \n",
        "\n",
        "import spacy\n",
        "nlp = spacy.load('en')\n",
        "\n",
        "def classify_tweet(tweet):\n",
        "    \n",
        "    categories = {0: \"Negative\", 2:\"Positive\", 1:\"Neutral\"}\n",
        "    \n",
        "    # tokenize the tweet \n",
        "    tokenized = [tok.text for tok in nlp.tokenizer(tweet)] \n",
        "    # convert to integer sequence using predefined tokenizer dictionary\n",
        "    indexed = [tokenizer[t] for t in tokenized]        \n",
        "    # compute no. of words        \n",
        "    length = [len(indexed)]\n",
        "    # convert to tensor                                    \n",
        "    tensor = torch.LongTensor(indexed).to(device)   \n",
        "    # reshape in form of batch, no. of words           \n",
        "    tensor = tensor.unsqueeze(1).T  \n",
        "    # convert to tensor                          \n",
        "    length_tensor = torch.LongTensor(length)\n",
        "    # Get the model prediction                  \n",
        "    prediction = model(tensor, length_tensor)\n",
        "\n",
        "    _, pred = torch.max(prediction, 1) \n",
        "    \n",
        "    return categories[pred.item()]"
      ],
      "execution_count": 64,
      "outputs": []
    },
    {
      "cell_type": "code",
      "metadata": {
        "id": "uiMCgFauCqFm",
        "colab": {
          "base_uri": "https://localhost:8080/",
          "height": 35
        },
        "outputId": "1344c480-a400-405e-e55d-dc2edf0c4f55"
      },
      "source": [
        "classify_tweet(\"A valid explanation for why Trump won't let women on the golf course.\")"
      ],
      "execution_count": 65,
      "outputs": [
        {
          "output_type": "execute_result",
          "data": {
            "application/vnd.google.colaboratory.intrinsic+json": {
              "type": "string"
            },
            "text/plain": [
              "'Positive'"
            ]
          },
          "metadata": {
            "tags": []
          },
          "execution_count": 65
        }
      ]
    },
    {
      "cell_type": "code",
      "metadata": {
        "id": "L2LGqxZDSA0o"
      },
      "source": [
        "correct = []\n",
        "wrong = []\n",
        "categories = {0: \"Negative\", 2:\"Positive\", 1:\"Neutral\"}\n",
        "for element in valid:\n",
        "  sentence = ' '.join (element.tweets)\n",
        "  pred = classify_tweet (sentence)\n",
        "  #print (sentence, categories[ int (element.labels) ], pred)\n",
        "  if categories[ int (element.labels) ] == pred:\n",
        "    correct.append ([pred, sentence])\n",
        "  else:\n",
        "    wrong.append ([categories[ int (element.labels) ], pred, sentence])"
      ],
      "execution_count": 76,
      "outputs": []
    },
    {
      "cell_type": "code",
      "metadata": {
        "colab": {
          "base_uri": "https://localhost:8080/"
        },
        "id": "ErNIlPLqz4cF",
        "outputId": "bcf1ec08-51d3-4ad9-e96c-c6c03444009d"
      },
      "source": [
        "for i in range(25):\n",
        "  print (correct[i])"
      ],
      "execution_count": 78,
      "outputs": [
        {
          "output_type": "stream",
          "text": [
            "['Negative', \"A well paced and satisfying little drama that deserved better than a ` direct - to - video ' release .\"]\n",
            "['Positive', 'This surreal Gilliam - esqe film is also a troubling interpretations of Ecclesiastes _ # : # .']\n",
            "['Negative', 'Just a Kiss wants desperately to come off as a fanciful film about the typical problems of average people .']\n",
            "['Neutral', 'lively and engaging examination of how can family .']\n",
            "['Neutral', 'and stylish , also somewhat hermetic']\n",
            "['Positive', \"-LRB- Tries -RRB- to parody a genre that 's already a joke in the United States .\"]\n",
            "['Negative', 'We do get the distinct impression that this franchise is drawing to a close .']\n",
            "['Negative', 'A that the less charitable might as a castrated cross Highlander and Lolita .']\n",
            "['Positive', 'Intriguing and .']\n",
            "['Negative', 'Or Tom Green as Han Solo ?']\n",
            "['Negative', 'dramatization of sexual a bit too time on its fairly ludicrous plot .']\n",
            "['Positive', \"captures that perverse element of the Kafkaesque where identity , overnight , is robbed and replaced with a persecuted ` ` other . ''\"]\n",
            "['Negative', 'The most consistently funny of the Austin Powers films .']\n",
            "['Positive', 'An unencouraging threefold expansion on the former MTV series , accompanying the stunt - hungry dimwits in a random series of collected gags , pranks , pratfalls , dares , injuries , etc . .']\n",
            "['Negative', 'Thanks to confident filmmaking and a pair of fascinating performances , the way to that destination is a really special walk in the woods .']\n",
            "['Positive', 'hilarious . Often']\n",
            "['Neutral', 'The movie quickly drag on becoming boring and predicable .']\n",
            "['Positive', 'To Blandly Go Where We Went Movies ... Ago 8']\n",
            "['Negative', \"Farrell ... thankfully manages to outshine the role and successfully plays the foil to Willis 's world - weary colonel .\"]\n",
            "['Neutral', 'Only two words will tell you what you know when deciding to see it : Anthony .']\n",
            "['Neutral', 'that Craven endorses They because movie makes his own look much by comparison .']\n",
            "['Negative', 'A sly dissection of the inanities of the contemporary music business and a rather sad story of the difficulties of artistic collaboration .']\n",
            "['Neutral', 'By the time the surprise ending is revealed , interest can not be revived .']\n",
            "['Positive', 'Suffers from over - familiarity since British filmmakers have strip - mined formula since 1997 .']\n",
            "['Negative', \"You do n't know whether to admire the film 's stately nature and call it classicism or be exasperated by a noticeable lack of pace .\"]\n"
          ],
          "name": "stdout"
        }
      ]
    },
    {
      "cell_type": "code",
      "metadata": {
        "colab": {
          "base_uri": "https://localhost:8080/"
        },
        "id": "pGpZgyQ4z-nL",
        "outputId": "d804394b-bc72-41e7-cf0e-5f5bfc951ba1"
      },
      "source": [
        "for i in range(25):\n",
        "  print (wrong[i])"
      ],
      "execution_count": 79,
      "outputs": [
        {
          "output_type": "stream",
          "text": [
            "['Negative', 'Neutral', 'significantly less charming than listening to a four - year - old with a taste for recount his Halloween trip to the House .']\n",
            "['Positive', 'Negative', \"'s an visit , this .\"]\n",
            "['Neutral', 'Negative', \"The movie has the preternatural ability to Right itself exactly when you think it 's in danger of going wrong .\"]\n",
            "['Positive', 'Neutral', \"It 's loathsome , really is and it makes no sense .\"]\n",
            "['Neutral', 'Negative', \"A mixed bag of a comedy that ca n't really be described as out of this world .\"]\n",
            "['Neutral', 'Negative', 'combination of standard , stiff TV - style animation and digital effects that do little disguise the fact the characters barely move']\n",
            "['Neutral', 'Negative', \"If have n't the lately be at the variety of tones in 's work .\"]\n",
            "['Negative', 'Neutral', 'an overwrought , the film as well it does the performances']\n",
            "['Positive', 'Negative', 'The performances are so overstated , the effect off .']\n",
            "['Positive', 'Negative', \"You can sip your and your Ivory I 'll settle for nice cool glass of tea and a Jerry any of week .\"]\n",
            "['Neutral', 'Negative', 'Plodding , peevish and gimmicky .']\n",
            "['Positive', 'Negative', \"... ambition is in short supply in the cinema , and Egoyan tackles his themes and explores his characters ' crises with seriousness and compassion .\"]\n",
            "['Neutral', 'Positive', 'under - rehearsed and lifeless']\n",
            "['Negative', 'Neutral', 'An unpredictability blend of gal - pal smart talk , romance comedy and dark tragedies that bites off considerably more than writer\\\\/director John McKay can swallow .']\n",
            "['Neutral', 'Negative', \"Do n't even bother to rent this on video .\"]\n",
            "['Neutral', 'Negative', 'The beautifully choreographed kitchen ballet is simple but absorbing .']\n",
            "['Positive', 'Negative', 'This action - thriller\\\\/dark comedy is one of the most repellent pop a year already littered celluloid garbage']\n",
            "['Neutral', 'Negative', 'Cho continues her of outer limits raunch considerable brio .']\n",
            "['Neutral', 'Negative', 'Affable if not timeless , Like Mike raises some worthwhile themes while delivering a wholesome fantasy for kids .']\n",
            "['Positive', 'Negative', \"Maneuvers skillfully through the plot 's hot brine -- until it 's undone by the sogginess of its contemporary characters , and actors .\"]\n",
            "['Neutral', 'Negative', \"It 's 13 months and 295 preview since I walked out , but really earned my indignant preemptive\"]\n",
            "['Neutral', 'Negative', 'Credibility levels are low and character development a non - starter .']\n",
            "['Negative', 'Neutral', 'From beginning to end , this overheated melodrama plays like a student film .']\n",
            "['Positive', 'Negative', 'to']\n",
            "['Negative', 'Neutral', 'Super Troopers is an odd amalgam of comedy genres , existing somewhere between the often literal riffs of early Zucker Brothers\\\\/Abrahams films , and the decidedly foul stylings of their post - modern contemporaries , The Farrelly Brothers .']\n"
          ],
          "name": "stdout"
        }
      ]
    },
    {
      "cell_type": "code",
      "metadata": {
        "id": "MRG5i0Mn0Bzs"
      },
      "source": [
        ""
      ],
      "execution_count": null,
      "outputs": []
    }
  ]
}