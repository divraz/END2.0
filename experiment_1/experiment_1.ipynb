{
  "nbformat": 4,
  "nbformat_minor": 0,
  "metadata": {
    "colab": {
      "name": "experiment_1.ipynb",
      "provenance": [],
      "collapsed_sections": [],
      "authorship_tag": "ABX9TyMF9erfO9yJkroNMcG9IBBy",
      "include_colab_link": true
    },
    "kernelspec": {
      "name": "python3",
      "display_name": "Python 3"
    },
    "language_info": {
      "name": "python"
    }
  },
  "cells": [
    {
      "cell_type": "markdown",
      "metadata": {
        "id": "view-in-github",
        "colab_type": "text"
      },
      "source": [
        "<a href=\"https://colab.research.google.com/github/divyanshuraj6815/END2.0/blob/main/experiment_1/experiment_1.ipynb\" target=\"_parent\"><img src=\"https://colab.research.google.com/assets/colab-badge.svg\" alt=\"Open In Colab\"/></a>"
      ]
    },
    {
      "cell_type": "code",
      "metadata": {
        "colab": {
          "base_uri": "https://localhost:8080/"
        },
        "id": "khh7g3q5_H5N",
        "outputId": "62e1e437-6b57-4bd6-e940-e90188a81738"
      },
      "source": [
        "import torch\n",
        "from torch.autograd import Variable\n",
        "import torch.nn as nn\n",
        "import torch.nn.functional as F\n",
        "import torch.optim as optim\n",
        "import numpy as np\n",
        "import matplotlib.pyplot as plt\n",
        "%matplotlib inline\n",
        "torch.manual_seed(2)"
      ],
      "execution_count": 1,
      "outputs": [
        {
          "output_type": "execute_result",
          "data": {
            "text/plain": [
              "<torch._C.Generator at 0x7f0f655a08d0>"
            ]
          },
          "metadata": {
            "tags": []
          },
          "execution_count": 1
        }
      ]
    },
    {
      "cell_type": "code",
      "metadata": {
        "id": "z49saXqKFR1L"
      },
      "source": [
        "X = torch.Tensor([[0,0], [0,1], [1,0], [1,1]])\n",
        "Y = torch.Tensor([0, 1, 1, 0]).view(-1,1)"
      ],
      "execution_count": 2,
      "outputs": []
    },
    {
      "cell_type": "code",
      "metadata": {
        "id": "LuOPdYLuFUh5"
      },
      "source": [
        "class XOR (nn.Module):\n",
        "  def __init__ (self, input_dim = 2, output_dim = 1):\n",
        "    super (XOR, self).__init__ ()\n",
        "    self.lin1 = nn.Linear (input_dim, 11)\n",
        "    self.lin2 = nn.Linear (11, output_dim, bias = False)\n",
        "  \n",
        "  def forward (self, x):\n",
        "    x = self.lin1 (x)\n",
        "    x = F.tanh (x)\n",
        "    x = self.lin2 (x)\n",
        "    return x"
      ],
      "execution_count": 34,
      "outputs": []
    },
    {
      "cell_type": "code",
      "metadata": {
        "colab": {
          "base_uri": "https://localhost:8080/"
        },
        "id": "_-4mmosRGD6Y",
        "outputId": "de44644b-d101-4e49-ad5a-fc3916522ab8"
      },
      "source": [
        "model = XOR ()\n",
        "print (model)\n",
        "from torchsummary import summary\n",
        "summary (model, (2, 2))"
      ],
      "execution_count": 35,
      "outputs": [
        {
          "output_type": "stream",
          "text": [
            "XOR(\n",
            "  (lin1): Linear(in_features=2, out_features=11, bias=True)\n",
            "  (lin2): Linear(in_features=11, out_features=1, bias=False)\n",
            ")\n",
            "----------------------------------------------------------------\n",
            "        Layer (type)               Output Shape         Param #\n",
            "================================================================\n",
            "            Linear-1                [-1, 2, 11]              33\n",
            "            Linear-2                 [-1, 2, 1]              11\n",
            "================================================================\n",
            "Total params: 44\n",
            "Trainable params: 44\n",
            "Non-trainable params: 0\n",
            "----------------------------------------------------------------\n",
            "Input size (MB): 0.00\n",
            "Forward/backward pass size (MB): 0.00\n",
            "Params size (MB): 0.00\n",
            "Estimated Total Size (MB): 0.00\n",
            "----------------------------------------------------------------\n"
          ],
          "name": "stdout"
        },
        {
          "output_type": "stream",
          "text": [
            "/usr/local/lib/python3.7/dist-packages/torch/nn/functional.py:1698: UserWarning: nn.functional.tanh is deprecated. Use torch.tanh instead.\n",
            "  warnings.warn(\"nn.functional.tanh is deprecated. Use torch.tanh instead.\")\n"
          ],
          "name": "stderr"
        }
      ]
    },
    {
      "cell_type": "code",
      "metadata": {
        "id": "33mvOU-PGOO8"
      },
      "source": [
        "def weights_init (model):\n",
        "  for m in model.modules ():\n",
        "    if isinstance (m, nn.Linear):\n",
        "      m.weight.data.normal_ (0, 1)\n",
        "\n",
        "weights_init (model)"
      ],
      "execution_count": 36,
      "outputs": []
    },
    {
      "cell_type": "code",
      "metadata": {
        "id": "YAqstvaeGlYm"
      },
      "source": [
        "loss_func = nn.L1Loss ()"
      ],
      "execution_count": 37,
      "outputs": []
    },
    {
      "cell_type": "code",
      "metadata": {
        "id": "UjuMicHbHFu1"
      },
      "source": [
        "optimizer = optim.SGD(model.parameters(), lr=0.02, momentum=0.9)\n"
      ],
      "execution_count": 38,
      "outputs": []
    },
    {
      "cell_type": "code",
      "metadata": {
        "colab": {
          "base_uri": "https://localhost:8080/"
        },
        "id": "Ie_aBfI7HHqi",
        "outputId": "4e21a9e6-b90c-4f14-c812-2e64f0ef4bee"
      },
      "source": [
        "epochs = 2001\n",
        "steps = X.size(0)\n",
        "for i in range(epochs):\n",
        "    for j in range(steps):\n",
        "        data_point = np.random.randint(X.size(0))\n",
        "        x_var = Variable(X[data_point], requires_grad=False)\n",
        "        y_var = Variable(Y[data_point], requires_grad=False)\n",
        "        \n",
        "        optimizer.zero_grad()\n",
        "        y_hat = model(x_var)\n",
        "        loss = loss_func.forward(y_hat, y_var)\n",
        "        loss.backward()\n",
        "        optimizer.step()\n",
        "        \n",
        "    if i % 100 == 0:\n",
        "        print( \"Epoch: {0}, Loss: {1}, \".format(i, loss.data.numpy()))"
      ],
      "execution_count": 39,
      "outputs": [
        {
          "output_type": "stream",
          "text": [
            "/usr/local/lib/python3.7/dist-packages/torch/nn/functional.py:1698: UserWarning: nn.functional.tanh is deprecated. Use torch.tanh instead.\n",
            "  warnings.warn(\"nn.functional.tanh is deprecated. Use torch.tanh instead.\")\n"
          ],
          "name": "stderr"
        },
        {
          "output_type": "stream",
          "text": [
            "Epoch: 0, Loss: 4.2064056396484375, \n",
            "Epoch: 100, Loss: 0.6934735178947449, \n",
            "Epoch: 200, Loss: 0.0051958560943603516, \n",
            "Epoch: 300, Loss: 0.0727834701538086, \n",
            "Epoch: 400, Loss: 0.19941756129264832, \n",
            "Epoch: 500, Loss: 0.04381978511810303, \n",
            "Epoch: 600, Loss: 0.013578653335571289, \n",
            "Epoch: 700, Loss: 0.1987209916114807, \n",
            "Epoch: 800, Loss: 0.08368420600891113, \n",
            "Epoch: 900, Loss: 0.04334104061126709, \n",
            "Epoch: 1000, Loss: 0.1342095136642456, \n",
            "Epoch: 1100, Loss: 0.016859591007232666, \n",
            "Epoch: 1200, Loss: 0.011620759963989258, \n",
            "Epoch: 1300, Loss: 0.27721643447875977, \n",
            "Epoch: 1400, Loss: 0.2956318259239197, \n",
            "Epoch: 1500, Loss: 0.23054873943328857, \n",
            "Epoch: 1600, Loss: 0.26799073815345764, \n",
            "Epoch: 1700, Loss: 0.04128718376159668, \n",
            "Epoch: 1800, Loss: 0.18372583389282227, \n",
            "Epoch: 1900, Loss: 0.0433347225189209, \n",
            "Epoch: 2000, Loss: 0.06030935049057007, \n"
          ],
          "name": "stdout"
        }
      ]
    },
    {
      "cell_type": "code",
      "metadata": {
        "id": "b1BmcGDVHNFB"
      },
      "source": [
        ""
      ],
      "execution_count": null,
      "outputs": []
    }
  ]
}